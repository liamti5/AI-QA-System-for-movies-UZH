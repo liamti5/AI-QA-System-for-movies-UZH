{
 "cells": [
  {
   "cell_type": "code",
   "execution_count": 1,
   "metadata": {},
   "outputs": [],
   "source": [
    "import rdflib\n",
    "import pandas as pd\n",
    "import numpy as np\n",
    "import csv\n",
    "import sklearn.metrics\n"
   ]
  },
  {
   "cell_type": "code",
   "execution_count": 2,
   "metadata": {},
   "outputs": [],
   "source": [
    "WD = rdflib.Namespace('http://www.wikidata.org/entity/')\n",
    "WDT = rdflib.Namespace('http://www.wikidata.org/prop/direct/')\n",
    "DDIS = rdflib.Namespace('http://ddis.ch/atai/')\n",
    "RDFS = rdflib.namespace.RDFS\n",
    "SCHEMA = rdflib.Namespace('http://schema.org/')"
   ]
  },
  {
   "cell_type": "code",
   "execution_count": 3,
   "metadata": {},
   "outputs": [
    {
     "data": {
      "text/plain": [
       "rdflib.term.URIRef('http://www.wikidata.org/prop/direct/P58')"
      ]
     },
     "execution_count": 3,
     "metadata": {},
     "output_type": "execute_result"
    }
   ],
   "source": [
    "WDT[\"P58\"]"
   ]
  },
  {
   "cell_type": "code",
   "execution_count": 4,
   "metadata": {},
   "outputs": [],
   "source": [
    "graph = rdflib.Graph().parse('data/14_graph.nt', format='turtle')"
   ]
  },
  {
   "cell_type": "code",
   "execution_count": 5,
   "metadata": {},
   "outputs": [],
   "source": [
    "entity_emb = np.load('../data/entity_embeds.npy')\n",
    "relation_emb = np.load('../data/relation_embeds.npy')\n",
    "\n",
    "with open('../data/entity_ids.del', 'r') as ifile:\n",
    "    ent2id = {rdflib.term.URIRef(ent): int(idx) for idx, ent in csv.reader(ifile, delimiter='\\t')}\n",
    "    id2ent = {v: k for k, v in ent2id.items()}\n",
    "with open('../data/relation_ids.del', 'r') as ifile:\n",
    "    rel2id = {rdflib.term.URIRef(rel): int(idx) for idx, rel in csv.reader(ifile, delimiter='\\t')}\n",
    "    id2rel = {v: k for k, v in rel2id.items()}"
   ]
  },
  {
   "cell_type": "code",
   "execution_count": 6,
   "metadata": {},
   "outputs": [],
   "source": [
    "ent2lbl = {ent: str(lbl) for ent, lbl in graph.subject_objects(RDFS.label)}\n",
    "lbl2ent = {lbl: ent for ent, lbl in ent2lbl.items()}"
   ]
  },
  {
   "cell_type": "code",
   "execution_count": 7,
   "metadata": {},
   "outputs": [
    {
     "data": {
      "text/plain": [
       "{'Q329737': 'butcher'}"
      ]
     },
     "execution_count": 7,
     "metadata": {},
     "output_type": "execute_result"
    }
   ],
   "source": [
    "# let's see what our graph thinks the occupation of Jean Van Hamme is\n",
    "professions = set(graph.query('''\n",
    "    prefix wdt: <http://www.wikidata.org/prop/direct/>\n",
    "    prefix wd: <http://www.wikidata.org/entity/>\n",
    "    \n",
    "    SELECT ?obj ?lbl WHERE {\n",
    "        ?ent rdfs:label \"Jean Van Hamme\"@en .\n",
    "        ?ent wdt:P106 ?obj .\n",
    "        ?obj rdfs:label ?lbl .\n",
    "    }\n",
    "    '''))\n",
    "{ent[len(WD):]: str(lbl) for ent, lbl in professions}"
   ]
  },
  {
   "cell_type": "code",
   "execution_count": 8,
   "metadata": {},
   "outputs": [],
   "source": [
    "# \"Jean Van Hamme\" entity\n",
    "head = entity_emb[ent2id[WD.Q428160]]\n",
    "# \"occupation\" relation\n",
    "pred = relation_emb[rel2id[WDT.P106]]\n",
    "# add vectors according to TransE scoring function.\n",
    "lhs = head + pred\n",
    "# compute distance to *any* entity\n",
    "dist = sklearn.metrics.pairwise_distances(lhs.reshape(1, -1), entity_emb).reshape(-1)\n",
    "# find most plausible entities\n",
    "most_likely = dist.argsort()\n",
    "# compute ranks of entities\n",
    "ranks = dist.argsort().argsort()"
   ]
  },
  {
   "cell_type": "code",
   "execution_count": 9,
   "metadata": {},
   "outputs": [
    {
     "data": {
      "text/html": [
       "<div>\n",
       "<style scoped>\n",
       "    .dataframe tbody tr th:only-of-type {\n",
       "        vertical-align: middle;\n",
       "    }\n",
       "\n",
       "    .dataframe tbody tr th {\n",
       "        vertical-align: top;\n",
       "    }\n",
       "\n",
       "    .dataframe thead th {\n",
       "        text-align: right;\n",
       "    }\n",
       "</style>\n",
       "<table border=\"1\" class=\"dataframe\">\n",
       "  <thead>\n",
       "    <tr style=\"text-align: right;\">\n",
       "      <th></th>\n",
       "      <th>Entity</th>\n",
       "      <th>Label</th>\n",
       "      <th>Score</th>\n",
       "      <th>Rank</th>\n",
       "    </tr>\n",
       "  </thead>\n",
       "  <tbody>\n",
       "    <tr>\n",
       "      <th>0</th>\n",
       "      <td>Q36180</td>\n",
       "      <td>writer</td>\n",
       "      <td>3223.151367</td>\n",
       "      <td>1</td>\n",
       "    </tr>\n",
       "    <tr>\n",
       "      <th>1</th>\n",
       "      <td>Q33999</td>\n",
       "      <td>actor</td>\n",
       "      <td>3382.129883</td>\n",
       "      <td>2</td>\n",
       "    </tr>\n",
       "    <tr>\n",
       "      <th>2</th>\n",
       "      <td>Q6625963</td>\n",
       "      <td>novelist</td>\n",
       "      <td>3397.582520</td>\n",
       "      <td>3</td>\n",
       "    </tr>\n",
       "    <tr>\n",
       "      <th>3</th>\n",
       "      <td>Q1930187</td>\n",
       "      <td>journalist</td>\n",
       "      <td>3492.735352</td>\n",
       "      <td>4</td>\n",
       "    </tr>\n",
       "    <tr>\n",
       "      <th>4</th>\n",
       "      <td>Q4610556</td>\n",
       "      <td>model</td>\n",
       "      <td>3549.961182</td>\n",
       "      <td>5</td>\n",
       "    </tr>\n",
       "    <tr>\n",
       "      <th>5</th>\n",
       "      <td>Q639669</td>\n",
       "      <td>musician</td>\n",
       "      <td>3616.397949</td>\n",
       "      <td>6</td>\n",
       "    </tr>\n",
       "    <tr>\n",
       "      <th>6</th>\n",
       "      <td>Q67311526</td>\n",
       "      <td>Obalky knih.cz</td>\n",
       "      <td>3628.230957</td>\n",
       "      <td>7</td>\n",
       "    </tr>\n",
       "    <tr>\n",
       "      <th>7</th>\n",
       "      <td>Q150</td>\n",
       "      <td>French</td>\n",
       "      <td>3667.630615</td>\n",
       "      <td>8</td>\n",
       "    </tr>\n",
       "    <tr>\n",
       "      <th>8</th>\n",
       "      <td>Q1028181</td>\n",
       "      <td>painter</td>\n",
       "      <td>3694.667480</td>\n",
       "      <td>9</td>\n",
       "    </tr>\n",
       "    <tr>\n",
       "      <th>9</th>\n",
       "      <td>Q245068</td>\n",
       "      <td>comedian</td>\n",
       "      <td>3744.303955</td>\n",
       "      <td>10</td>\n",
       "    </tr>\n",
       "  </tbody>\n",
       "</table>\n",
       "</div>"
      ],
      "text/plain": [
       "      Entity           Label        Score  Rank\n",
       "0     Q36180          writer  3223.151367     1\n",
       "1     Q33999           actor  3382.129883     2\n",
       "2   Q6625963        novelist  3397.582520     3\n",
       "3   Q1930187      journalist  3492.735352     4\n",
       "4   Q4610556           model  3549.961182     5\n",
       "5    Q639669        musician  3616.397949     6\n",
       "6  Q67311526  Obalky knih.cz  3628.230957     7\n",
       "7       Q150          French  3667.630615     8\n",
       "8   Q1028181         painter  3694.667480     9\n",
       "9    Q245068        comedian  3744.303955    10"
      ]
     },
     "execution_count": 9,
     "metadata": {},
     "output_type": "execute_result"
    }
   ],
   "source": [
    "# what would be more plausible occupations?\n",
    "pd.DataFrame([\n",
    "    (id2ent[idx][len(WD):], ent2lbl[id2ent[idx]], dist[idx], rank+1)\n",
    "    for rank, idx in enumerate(most_likely[:10])],\n",
    "    columns=('Entity', 'Label', 'Score', 'Rank'))"
   ]
  },
  {
   "cell_type": "markdown",
   "metadata": {},
   "source": [
    "# Recovering"
   ]
  },
  {
   "cell_type": "markdown",
   "metadata": {},
   "source": [
    "The Masked Gang: Cyprus (Q7750525) does not containt screenwriter (P58):"
   ]
  },
  {
   "cell_type": "code",
   "execution_count": 7,
   "metadata": {},
   "outputs": [
    {
     "data": {
      "text/plain": [
       "set()"
      ]
     },
     "execution_count": 7,
     "metadata": {},
     "output_type": "execute_result"
    }
   ],
   "source": [
    "set(graph.objects(WD.Q7750525, WDT.P58))"
   ]
  },
  {
   "cell_type": "code",
   "execution_count": 12,
   "metadata": {},
   "outputs": [
    {
     "name": "stdout",
     "output_type": "stream",
     "text": [
      "102605\n"
     ]
    },
    {
     "data": {
      "text/plain": [
       "'http://www.wikidata.org/entity/Q5058838'"
      ]
     },
     "execution_count": 12,
     "metadata": {},
     "output_type": "execute_result"
    }
   ],
   "source": [
    "# Let's see if we can recover this from embeddings...\n",
    "\n",
    "# set the head entity to bridge\n",
    "head = entity_emb[ent2id[WD.Q7750525]]\n",
    "# let's try with wdt:P279 (subClassOf) first\n",
    "pred = relation_emb[rel2id[WDT.P58]]\n",
    "# combine according to the TransE scoring function\n",
    "lhs = head + pred\n",
    "# compute distance to *any* entity\n",
    "dist = sklearn.metrics.pairwise_distances(lhs.reshape(1, -1), entity_emb).reshape(-1)\n",
    "# find most plausible tails\n",
    "most_likely = dist.argsort()[0]\n",
    "print(most_likely)\n",
    "entity = id2ent[most_likely]\n",
    "str(entity)\n",
    "# print(entity)\n",
    "# show most likely entities\n",
    "# pd.DataFrame([\n",
    "#     (id2ent[idx][len(WD):], ent2lbl[id2ent[idx]], dist[idx], rank+1)\n",
    "#     for rank, idx in enumerate(most_likely[:10])],\n",
    "#     columns=('Entity', 'Label', 'Score', 'Rank'))"
   ]
  },
  {
   "cell_type": "markdown",
   "metadata": {},
   "source": [
    "# Entity Similarity"
   ]
  },
  {
   "cell_type": "code",
   "execution_count": 31,
   "metadata": {},
   "outputs": [
    {
     "data": {
      "text/html": [
       "<div>\n",
       "<style scoped>\n",
       "    .dataframe tbody tr th:only-of-type {\n",
       "        vertical-align: middle;\n",
       "    }\n",
       "\n",
       "    .dataframe tbody tr th {\n",
       "        vertical-align: top;\n",
       "    }\n",
       "\n",
       "    .dataframe thead th {\n",
       "        text-align: right;\n",
       "    }\n",
       "</style>\n",
       "<table border=\"1\" class=\"dataframe\">\n",
       "  <thead>\n",
       "    <tr style=\"text-align: right;\">\n",
       "      <th></th>\n",
       "      <th>Entity</th>\n",
       "      <th>Label</th>\n",
       "      <th>Score</th>\n",
       "      <th>Rank</th>\n",
       "    </tr>\n",
       "  </thead>\n",
       "  <tbody>\n",
       "    <tr>\n",
       "      <th>0</th>\n",
       "      <td>Q44578</td>\n",
       "      <td>Titanic</td>\n",
       "      <td>0.000000</td>\n",
       "      <td>1</td>\n",
       "    </tr>\n",
       "    <tr>\n",
       "      <th>1</th>\n",
       "      <td>Q24871</td>\n",
       "      <td>Avatar</td>\n",
       "      <td>2266.246094</td>\n",
       "      <td>2</td>\n",
       "    </tr>\n",
       "    <tr>\n",
       "      <th>2</th>\n",
       "      <td>Q170564</td>\n",
       "      <td>Terminator 2: Judgment Day</td>\n",
       "      <td>2386.475342</td>\n",
       "      <td>3</td>\n",
       "    </tr>\n",
       "    <tr>\n",
       "      <th>3</th>\n",
       "      <td>Q46717</td>\n",
       "      <td>Pirates of the Caribbean: The Curse of the Bla...</td>\n",
       "      <td>2396.940674</td>\n",
       "      <td>4</td>\n",
       "    </tr>\n",
       "    <tr>\n",
       "      <th>4</th>\n",
       "      <td>Q128518</td>\n",
       "      <td>Gladiator</td>\n",
       "      <td>2398.771240</td>\n",
       "      <td>5</td>\n",
       "    </tr>\n",
       "    <tr>\n",
       "      <th>5</th>\n",
       "      <td>Q162255</td>\n",
       "      <td>The Terminator</td>\n",
       "      <td>2409.545898</td>\n",
       "      <td>6</td>\n",
       "    </tr>\n",
       "    <tr>\n",
       "      <th>6</th>\n",
       "      <td>Q104814</td>\n",
       "      <td>Aliens</td>\n",
       "      <td>2429.442627</td>\n",
       "      <td>7</td>\n",
       "    </tr>\n",
       "    <tr>\n",
       "      <th>7</th>\n",
       "      <td>Q103569</td>\n",
       "      <td>Alien</td>\n",
       "      <td>2432.364014</td>\n",
       "      <td>8</td>\n",
       "    </tr>\n",
       "    <tr>\n",
       "      <th>8</th>\n",
       "      <td>Q193573</td>\n",
       "      <td>Moulin Rouge!</td>\n",
       "      <td>2442.012939</td>\n",
       "      <td>9</td>\n",
       "    </tr>\n",
       "    <tr>\n",
       "      <th>9</th>\n",
       "      <td>Q463313</td>\n",
       "      <td>Romeo + Juliet</td>\n",
       "      <td>2445.643555</td>\n",
       "      <td>10</td>\n",
       "    </tr>\n",
       "    <tr>\n",
       "      <th>10</th>\n",
       "      <td>Q106428</td>\n",
       "      <td>Apollo 13</td>\n",
       "      <td>2452.287354</td>\n",
       "      <td>11</td>\n",
       "    </tr>\n",
       "    <tr>\n",
       "      <th>11</th>\n",
       "      <td>Q1125384</td>\n",
       "      <td>Master and Commander: The Far Side of the World</td>\n",
       "      <td>2458.567383</td>\n",
       "      <td>12</td>\n",
       "    </tr>\n",
       "    <tr>\n",
       "      <th>12</th>\n",
       "      <td>Q110397</td>\n",
       "      <td>True Lies</td>\n",
       "      <td>2473.976562</td>\n",
       "      <td>13</td>\n",
       "    </tr>\n",
       "    <tr>\n",
       "      <th>13</th>\n",
       "      <td>Q2579784</td>\n",
       "      <td>Gravity</td>\n",
       "      <td>2479.071777</td>\n",
       "      <td>14</td>\n",
       "    </tr>\n",
       "    <tr>\n",
       "      <th>14</th>\n",
       "      <td>Q20856802</td>\n",
       "      <td>La La Land</td>\n",
       "      <td>2486.402100</td>\n",
       "      <td>15</td>\n",
       "    </tr>\n",
       "  </tbody>\n",
       "</table>\n",
       "</div>"
      ],
      "text/plain": [
       "       Entity                                              Label        Score  \\\n",
       "0      Q44578                                            Titanic     0.000000   \n",
       "1      Q24871                                             Avatar  2266.246094   \n",
       "2     Q170564                         Terminator 2: Judgment Day  2386.475342   \n",
       "3      Q46717  Pirates of the Caribbean: The Curse of the Bla...  2396.940674   \n",
       "4     Q128518                                          Gladiator  2398.771240   \n",
       "5     Q162255                                     The Terminator  2409.545898   \n",
       "6     Q104814                                             Aliens  2429.442627   \n",
       "7     Q103569                                              Alien  2432.364014   \n",
       "8     Q193573                                      Moulin Rouge!  2442.012939   \n",
       "9     Q463313                                     Romeo + Juliet  2445.643555   \n",
       "10    Q106428                                          Apollo 13  2452.287354   \n",
       "11   Q1125384    Master and Commander: The Far Side of the World  2458.567383   \n",
       "12    Q110397                                          True Lies  2473.976562   \n",
       "13   Q2579784                                            Gravity  2479.071777   \n",
       "14  Q20856802                                         La La Land  2486.402100   \n",
       "\n",
       "    Rank  \n",
       "0      1  \n",
       "1      2  \n",
       "2      3  \n",
       "3      4  \n",
       "4      5  \n",
       "5      6  \n",
       "6      7  \n",
       "7      8  \n",
       "8      9  \n",
       "9     10  \n",
       "10    11  \n",
       "11    12  \n",
       "12    13  \n",
       "13    14  \n",
       "14    15  "
      ]
     },
     "execution_count": 31,
     "metadata": {},
     "output_type": "execute_result"
    }
   ],
   "source": [
    "# which entities are similar to \"Harry Potter and the Goblet of Fire\"\n",
    "ent = ent2id[WD.Q44578]\n",
    "# we compare the embedding of the query entity to all other entity embeddings\n",
    "dist = sklearn.metrics.pairwise_distances(entity_emb[ent].reshape(1, -1), entity_emb).reshape(-1)\n",
    "# order by plausibility\n",
    "most_likely = dist.argsort()\n",
    "\n",
    "pd.DataFrame([\n",
    "    (\n",
    "        id2ent[idx][len(WD):], # qid\n",
    "        ent2lbl[id2ent[idx]],  # label\n",
    "        dist[idx],             # score\n",
    "        rank+1,                # rank\n",
    "    )\n",
    "    for rank, idx in enumerate(most_likely[:15])],\n",
    "    columns=('Entity', 'Label', 'Score', 'Rank'))"
   ]
  }
 ],
 "metadata": {
  "kernelspec": {
   "display_name": "venv",
   "language": "python",
   "name": "python3"
  },
  "language_info": {
   "codemirror_mode": {
    "name": "ipython",
    "version": 3
   },
   "file_extension": ".py",
   "mimetype": "text/x-python",
   "name": "python",
   "nbconvert_exporter": "python",
   "pygments_lexer": "ipython3",
   "version": "3.10.12"
  }
 },
 "nbformat": 4,
 "nbformat_minor": 2
}
