{
 "cells": [
  {
   "cell_type": "markdown",
   "metadata": {},
   "source": [
    "# recommendation system"
   ]
  },
  {
   "cell_type": "code",
   "execution_count": 1,
   "metadata": {},
   "outputs": [],
   "source": [
    "import pandas as pd\n",
    "import numpy as np\n",
    "from collections import Counter\n",
    "import rdflib\n",
    "from bs4 import BeautifulSoup\n",
    "import urllib\n",
    "import re\n",
    "import shutil\n",
    "import requests\n",
    "import copy"
   ]
  },
  {
   "cell_type": "code",
   "execution_count": 5,
   "metadata": {},
   "outputs": [
    {
     "data": {
      "text/html": [
       "<div>\n",
       "<style scoped>\n",
       "    .dataframe tbody tr th:only-of-type {\n",
       "        vertical-align: middle;\n",
       "    }\n",
       "\n",
       "    .dataframe tbody tr th {\n",
       "        vertical-align: top;\n",
       "    }\n",
       "\n",
       "    .dataframe thead th {\n",
       "        text-align: right;\n",
       "    }\n",
       "</style>\n",
       "<table border=\"1\" class=\"dataframe\">\n",
       "  <thead>\n",
       "    <tr style=\"text-align: right;\">\n",
       "      <th></th>\n",
       "      <th>title</th>\n",
       "      <th>genres</th>\n",
       "    </tr>\n",
       "  </thead>\n",
       "  <tbody>\n",
       "    <tr>\n",
       "      <th>0</th>\n",
       "      <td>Toy Story (1995)</td>\n",
       "      <td>Adventure|Animation|Children|Comedy|Fantasy</td>\n",
       "    </tr>\n",
       "    <tr>\n",
       "      <th>1</th>\n",
       "      <td>Jumanji (1995)</td>\n",
       "      <td>Adventure|Children|Fantasy</td>\n",
       "    </tr>\n",
       "    <tr>\n",
       "      <th>2</th>\n",
       "      <td>Grumpier Old Men (1995)</td>\n",
       "      <td>Comedy|Romance</td>\n",
       "    </tr>\n",
       "    <tr>\n",
       "      <th>3</th>\n",
       "      <td>Waiting to Exhale (1995)</td>\n",
       "      <td>Comedy|Drama|Romance</td>\n",
       "    </tr>\n",
       "    <tr>\n",
       "      <th>4</th>\n",
       "      <td>Father of the Bride Part II (1995)</td>\n",
       "      <td>Comedy</td>\n",
       "    </tr>\n",
       "  </tbody>\n",
       "</table>\n",
       "</div>"
      ],
      "text/plain": [
       "                                title  \\\n",
       "0                    Toy Story (1995)   \n",
       "1                      Jumanji (1995)   \n",
       "2             Grumpier Old Men (1995)   \n",
       "3            Waiting to Exhale (1995)   \n",
       "4  Father of the Bride Part II (1995)   \n",
       "\n",
       "                                        genres  \n",
       "0  Adventure|Animation|Children|Comedy|Fantasy  \n",
       "1                   Adventure|Children|Fantasy  \n",
       "2                               Comedy|Romance  \n",
       "3                         Comedy|Drama|Romance  \n",
       "4                                       Comedy  "
      ]
     },
     "execution_count": 5,
     "metadata": {},
     "output_type": "execute_result"
    }
   ],
   "source": [
    "movie_df = pd.read_csv('./movies.csv', usecols=['title','genres'])\n",
    "movie_df.head()"
   ]
  },
  {
   "cell_type": "code",
   "execution_count": 59,
   "metadata": {},
   "outputs": [],
   "source": [
    "movie_title=[' '.join(x.split(' ')[:-1]) for x in movie_df['title'].tolist()]\n",
    "movie_time=[x.split(' ')[-1][1:5] for x in movie_df['title'].tolist()]\n",
    "movie_genres=[ x.split('|') for x in movie_df['genres'].tolist()]"
   ]
  },
  {
   "cell_type": "code",
   "execution_count": 60,
   "metadata": {},
   "outputs": [
    {
     "name": "stdout",
     "output_type": "stream",
     "text": [
      "0 Toy Story 1995 ['Adventure', 'Animation', 'Children', 'Comedy', 'Fantasy']\n",
      "1 Jumanji 1995 ['Adventure', 'Children', 'Fantasy']\n",
      "2 Grumpier Old Men 1995 ['Comedy', 'Romance']\n",
      "3 Waiting to Exhale 1995 ['Comedy', 'Drama', 'Romance']\n",
      "4 Father of the Bride Part II 1995 ['Comedy']\n",
      "5 Heat 1995 ['Action', 'Crime', 'Thriller']\n",
      "6 Sabrina 1995 ['Comedy', 'Romance']\n",
      "7 Tom and Huck 1995 ['Adventure', 'Children']\n",
      "8 Sudden Death 1995 ['Action']\n",
      "9 GoldenEye 1995 ['Action', 'Adventure', 'Thriller']\n",
      "10 American President, The 1995 ['Comedy', 'Drama', 'Romance']\n",
      "11 Dracula: Dead and Loving It 1995 ['Comedy', 'Horror']\n",
      "12 Balto 1995 ['Adventure', 'Animation', 'Children']\n",
      "13 Nixon 1995 ['Drama']\n",
      "14 Cutthroat Island 1995 ['Action', 'Adventure', 'Romance']\n",
      "15 Casino 1995 ['Crime', 'Drama']\n",
      "16 Sense and Sensibility 1995 ['Drama', 'Romance']\n",
      "17 Four Rooms 1995 ['Comedy']\n",
      "18 Ace Ventura: When Nature Calls 1995 ['Comedy']\n",
      "19 Money Train 1995 ['Action', 'Comedy', 'Crime', 'Drama', 'Thriller']\n",
      "20 Get Shorty 1995 ['Comedy', 'Crime', 'Thriller']\n",
      "21 Copycat 1995 ['Crime', 'Drama', 'Horror', 'Mystery', 'Thriller']\n",
      "22 Assassins 1995 ['Action', 'Crime', 'Thriller']\n",
      "23 Powder 1995 ['Drama', 'Sci-Fi']\n",
      "24 Leaving Las Vegas 1995 ['Drama', 'Romance']\n",
      "25 Othello 1995 ['Drama']\n",
      "26 Now and Then 1995 ['Children', 'Drama']\n",
      "27 Persuasion 1995 ['Drama', 'Romance']\n",
      "28 City of Lost Children, The (Cité des enfants perdus, La) 1995 ['Adventure', 'Drama', 'Fantasy', 'Mystery', 'Sci-Fi']\n",
      "29 Shanghai Triad (Yao a yao yao dao waipo qiao) 1995 ['Crime', 'Drama']\n",
      "30 Dangerous Minds 1995 ['Drama']\n",
      "31 Twelve Monkeys (a.k.a. 12 Monkeys) 1995 ['Mystery', 'Sci-Fi', 'Thriller']\n",
      "32 Babe 1995 ['Children', 'Drama']\n",
      "33 Dead Man Walking 1995 ['Crime', 'Drama']\n",
      "34 It Takes Two 1995 ['Children', 'Comedy']\n",
      "35 Clueless 1995 ['Comedy', 'Romance']\n",
      "36 Cry, the Beloved Country 1995 ['Drama']\n",
      "37 Richard III 1995 ['Drama', 'War']\n",
      "38 Dead Presidents 1995 ['Action', 'Crime', 'Drama']\n",
      "39 Restoration 1995 ['Drama']\n",
      "40 Mortal Kombat 1995 ['Action', 'Adventure', 'Fantasy']\n",
      "41 To Die For 1995 ['Comedy', 'Drama', 'Thriller']\n",
      "42 How to Make an American Quilt 1995 ['Drama', 'Romance']\n",
      "43 Seven (a.k.a. Se7en) 1995 ['Mystery', 'Thriller']\n",
      "44 Pocahontas 1995 ['Animation', 'Children', 'Drama', 'Musical', 'Romance']\n",
      "45 When Night Is Falling 1995 ['Drama', 'Romance']\n",
      "46 Usual Suspects, The 1995 ['Crime', 'Mystery', 'Thriller']\n",
      "47 Mighty Aphrodite 1995 ['Comedy', 'Drama', 'Romance']\n",
      "48 Lamerica 1994 ['Adventure', 'Drama']\n",
      "49 Big Green, The 1995 ['Children', 'Comedy']\n",
      "50 Georgia 1995 ['Drama']\n",
      "51 Home for the Holidays 1995 ['Drama']\n",
      "52 Postman, The (Postino, Il) 1994 ['Comedy', 'Drama', 'Romance']\n",
      "53 Indian in the Cupboard, The 1995 ['Adventure', 'Children', 'Fantasy']\n",
      "54 Eye for an Eye 1996 ['Drama', 'Thriller']\n",
      "55 Mr. Holland's Opus 1995 ['Drama']\n",
      "56 Don't Be a Menace to South Central While Drinking Your Juice in the Hood 1996 ['Comedy', 'Crime']\n",
      "57 Two if by Sea 1996 ['Comedy', 'Romance']\n",
      "58 Bio-Dome 1996 ['Comedy']\n",
      "59 Lawnmower Man 2: Beyond Cyberspace 1996 ['Action', 'Sci-Fi', 'Thriller']\n",
      "60 French Twist (Gazon maudit) 1995 ['Comedy', 'Romance']\n",
      "61 Friday 1995 ['Comedy']\n",
      "62 From Dusk Till Dawn 1996 ['Action', 'Comedy', 'Horror', 'Thriller']\n",
      "63 Fair Game 1995 ['Action']\n",
      "64 Kicking and Screaming 1995 ['Comedy', 'Drama']\n",
      "65 Misérables, Les 1995 ['Drama', 'War']\n",
      "66 Bed of Roses 1996 ['Drama', 'Romance']\n",
      "67 Big Bully 1996 ['Comedy', 'Drama']\n",
      "68 Screamers 1995 ['Action', 'Sci-Fi', 'Thriller']\n",
      "69 Nico Icon 1995 ['Documentary']\n",
      "70 Crossing Guard, The 1995 ['Action', 'Crime', 'Drama', 'Thriller']\n",
      "71 Juror, The 1996 ['Drama', 'Thriller']\n",
      "72 White Balloon, The (Badkonake sefid) 1995 ['Children', 'Drama']\n",
      "73 Things to Do in Denver When You're Dead 1995 ['Crime', 'Drama', 'Romance']\n",
      "74 Antonia's Line (Antonia) 1995 ['Comedy', 'Drama']\n",
      "75 Once Upon a Time... When We Were Colored 1995 ['Drama', 'Romance']\n",
      "76 Angels and Insects 1995 ['Drama', 'Romance']\n",
      "77 White Squall 1996 ['Action', 'Adventure', 'Drama']\n",
      "78 Dunston Checks In 1996 ['Children', 'Comedy']\n",
      "79 Black Sheep 1996 ['Comedy']\n",
      "80 Nick of Time 1995 ['Action', 'Thriller']\n",
      "81 Mary Reilly 1996 ['Drama', 'Horror', 'Thriller']\n",
      "82 Vampire in Brooklyn 1995 ['Comedy', 'Horror', 'Romance']\n",
      "83 Beautiful Girls 1996 ['Comedy', 'Drama', 'Romance']\n",
      "84 Broken Arrow 1996 ['Action', 'Adventure', 'Thriller']\n",
      "85 In the Bleak Midwinter 1995 ['Comedy', 'Drama']\n",
      "86 Hate (Haine, La) 1995 ['Crime', 'Drama']\n",
      "87 Heidi Fleiss: Hollywood Madam 1995 ['Documentary']\n",
      "88 City Hall 1996 ['Drama', 'Thriller']\n",
      "89 Bottle Rocket 1996 ['Adventure', 'Comedy', 'Crime', 'Romance']\n",
      "90 Mr. Wrong 1996 ['Comedy']\n",
      "91 Unforgettable 1996 ['Mystery', 'Sci-Fi', 'Thriller']\n",
      "92 Happy Gilmore 1996 ['Comedy']\n",
      "93 Bridges of Madison County, The 1995 ['Drama', 'Romance']\n",
      "94 Nobody Loves Me (Keiner liebt mich) 1994 ['Comedy', 'Drama']\n",
      "95 Muppet Treasure Island 1996 ['Adventure', 'Children', 'Comedy', 'Musical']\n",
      "96 Catwalk 1996 ['Documentary']\n",
      "97 Braveheart 1995 ['Action', 'Drama', 'War']\n",
      "98 Taxi Driver 1976 ['Crime', 'Drama', 'Thriller']\n",
      "99 Rumble in the Bronx (Hont faan kui) 1995 ['Action', 'Adventure', 'Comedy', 'Crime']\n"
     ]
    }
   ],
   "source": [
    "for i in range(100):\n",
    "    print(i,movie_title[i],movie_time[i],movie_genres[i])"
   ]
  },
  {
   "cell_type": "code",
   "execution_count": 61,
   "metadata": {},
   "outputs": [],
   "source": [
    "test=['Toy Story','Jumanji']"
   ]
  },
  {
   "cell_type": "code",
   "execution_count": 62,
   "metadata": {},
   "outputs": [],
   "source": [
    "def check_genres_in_list(genres_1,genres_2):\n",
    "    for g in genres_1:\n",
    "        if g in genres_2:\n",
    "            return 1\n",
    "    return 0\n",
    "\n",
    "\n",
    "def recommend_movies(test,n):\n",
    "    number_of_all_movies=len(movie_title)\n",
    "\n",
    "    movie_index=[]\n",
    "    for t in test:\n",
    "        try:\n",
    "            movie_index.append(movie_title.index(t))\n",
    "        except:\n",
    "            print('movie has not been found')\n",
    "\n",
    "    if movie_index==[]:\n",
    "        print('it seems like you did not input even a movie, it is hard for me to recommmend.')\n",
    "    else:\n",
    "        movie_r_time=[]\n",
    "        movie_r_genres=[]\n",
    "        for i in movie_index:\n",
    "            movie_r_time.append(movie_time[i])\n",
    "            movie_r_genres.append(movie_genres[i])\n",
    "\n",
    "    genres_counter=Counter()\n",
    "    for l in movie_r_genres:\n",
    "        for item in l:\n",
    "            genres_counter.update({item:1})\n",
    "\n",
    "\n",
    "    genres_counter=dict(sorted(genres_counter.items(), key=lambda item: item[1],reverse=True))\n",
    "    movie_r_time=list(set(movie_r_time))\n",
    "\n",
    "    # print(movie_r_time)\n",
    "    # print(genres_counter)\n",
    "\n",
    "    time_r_list=movie_r_time[:n]\n",
    "    genres_r_list=list(genres_counter)[:n]\n",
    "    \n",
    "#     print(time_r_list)\n",
    "#     print(genres_r_list)\n",
    "\n",
    "    search_answers_index=[]\n",
    "    search_answers_number=0\n",
    "    recommend_reason=-1\n",
    "    \n",
    "    \n",
    "    \n",
    "    #best: time and genres both pass\n",
    "    for i in range(number_of_all_movies):\n",
    "        if movie_time[i] in time_r_list and check_genres_in_list(movie_genres[i],genres_r_list) and movie_title[i] not in test:\n",
    "            search_answers_number+=1\n",
    "            search_answers_index.append(i)\n",
    "            if search_answers_number==n:\n",
    "                break\n",
    "  \n",
    "    if search_answers_index!=[]:\n",
    "        recommend_reason=0\n",
    "        return search_answers_index,recommend_reason\n",
    "    \n",
    "\n",
    "    \n",
    "    #only considerate genres    \n",
    "    for i in range(number_of_all_movies):\n",
    "        if check_genres_in_list(movie_genres[i],genres_r_list) and movie_title[i] not in test:\n",
    "            search_answers_number+=1\n",
    "            search_answers_index.append(i)\n",
    "            if search_answers_number==n:\n",
    "                break\n",
    "\n",
    "    if search_answers_index!=[]:\n",
    "        recommend_reason=2\n",
    "        return search_answers_index,recommend_reason    \n",
    "    \n",
    "    \n",
    "    \n",
    "    \n",
    "    \n",
    "    \n",
    "    \n",
    "    \n",
    "    #only considerate time\n",
    "    for i in range(number_of_all_movies):\n",
    "        if movie_time[i] in time_r_list and movie_title[i] not in test:\n",
    "            search_answers_number+=1\n",
    "            search_answers_index.append(i)\n",
    "            if search_answers_number==n:\n",
    "                break\n",
    "\n",
    "    if search_answers_index!=[]:\n",
    "        recommend_reason=1\n",
    "        return search_answers_index,recommend_reason\n",
    "\n",
    "    else:\n",
    "        print('no answers have been found')\n",
    "    return search_answers_index,recommend_reason"
   ]
  },
  {
   "cell_type": "code",
   "execution_count": 63,
   "metadata": {
    "scrolled": true
   },
   "outputs": [
    {
     "data": {
      "text/plain": [
       "([7, 9, 12], 0)"
      ]
     },
     "execution_count": 63,
     "metadata": {},
     "output_type": "execute_result"
    }
   ],
   "source": [
    "recommend_movies(test,3)"
   ]
  },
  {
   "cell_type": "code",
   "execution_count": 64,
   "metadata": {},
   "outputs": [],
   "source": [
    "def recommend_answers(search_answers_outcomes):\n",
    "    search_answers_index,recommend_reason=search_answers_outcomes\n",
    "    movie_list=[movie_title[x] for x in search_answers_index]\n",
    "    time_list=[movie_time[x] for x in search_answers_index]\n",
    "    genres_list=[movie_genres[x] for x in search_answers_index]\n",
    "    \n",
    "    recommend_categories=''\n",
    "    whether_found=(recommend_reason==-1)\n",
    "    if recommend_reason==-1:\n",
    "        recommend_categories='have not been found, so no reasons'\n",
    "    elif recommend_reason==0:\n",
    "        recommend_categories='all the movies have been published in the same year and the genres are the same'\n",
    "    elif recommend_reason==1:\n",
    "        recommend_categories='all the movies have been published in the same year'\n",
    "    elif recommend_reason==2:\n",
    "        recommend_categories='all the movies are the same genres'\n",
    "    return movie_list,time_list,genres_list,recommend_categories,whether_found"
   ]
  },
  {
   "cell_type": "code",
   "execution_count": 65,
   "metadata": {},
   "outputs": [
    {
     "data": {
      "text/plain": [
       "(['Tom and Huck', 'GoldenEye', 'Balto'],\n",
       " ['1995', '1995', '1995'],\n",
       " [['Adventure', 'Children'],\n",
       "  ['Action', 'Adventure', 'Thriller'],\n",
       "  ['Adventure', 'Animation', 'Children']],\n",
       " 'all the movies have been published in the same year and the genres are the same',\n",
       " False)"
      ]
     },
     "execution_count": 65,
     "metadata": {},
     "output_type": "execute_result"
    }
   ],
   "source": [
    "recommend_answers(recommend_movies(test,3))"
   ]
  },
  {
   "cell_type": "code",
   "execution_count": 66,
   "metadata": {},
   "outputs": [],
   "source": [
    "def generate_answers_for_recommendation(search_answers_outcomes):\n",
    "    movie_list,time_list,genres_list,recommend_categories,whether_found=search_answers_outcomes\n",
    "    if whether_found==True:\n",
    "        return 'no answers have been found, try again.'\n",
    "    else:\n",
    "        answer1='Adequate recommendations will be: {}, because {}.'.format(', '.join(movie_list),recommend_categories)\n",
    "        answer2=' The details about the movies are shown as follows: '\n",
    "        answer3=' publication date of each movie is {} and the genres of each movie is {}.'.format(', '.join(time_list),genres_list)\n",
    "        return answer1+answer2+answer3\n",
    "    "
   ]
  },
  {
   "cell_type": "code",
   "execution_count": 67,
   "metadata": {},
   "outputs": [
    {
     "data": {
      "text/plain": [
       "\"Adequate recommendations will be: Tom and Huck, GoldenEye, Balto, because all the movies have been published in the same year and the genres are the same. The details about the movies are shown as follows:  publication date of each movie is 1995, 1995, 1995 and the genres of each movie is [['Adventure', 'Children'], ['Action', 'Adventure', 'Thriller'], ['Adventure', 'Animation', 'Children']].\""
      ]
     },
     "execution_count": 67,
     "metadata": {},
     "output_type": "execute_result"
    }
   ],
   "source": [
    "generate_answers_for_recommendation(recommend_answers(recommend_movies(test,3)))"
   ]
  },
  {
   "cell_type": "code",
   "execution_count": 68,
   "metadata": {},
   "outputs": [],
   "source": [
    "test=['Who Am I (Kein System Ist Sicher)']"
   ]
  },
  {
   "cell_type": "code",
   "execution_count": 69,
   "metadata": {
    "scrolled": true
   },
   "outputs": [
    {
     "data": {
      "text/plain": [
       "([8340, 8346, 8379], 0)"
      ]
     },
     "execution_count": 69,
     "metadata": {},
     "output_type": "execute_result"
    }
   ],
   "source": [
    "recommend_movies(test,3)"
   ]
  },
  {
   "cell_type": "code",
   "execution_count": 70,
   "metadata": {},
   "outputs": [
    {
     "data": {
      "text/plain": [
       "\"Adequate recommendations will be: Freezer, Jack Ryan: Shadow Recruit, Non-Stop, because all the movies have been published in the same year and the genres are the same. The details about the movies are shown as follows:  publication date of each movie is 2014, 2014, 2014 and the genres of each movie is [['Action', 'Thriller'], ['Action', 'Drama', 'Thriller', 'IMAX'], ['Action', 'Mystery', 'Thriller']].\""
      ]
     },
     "execution_count": 70,
     "metadata": {},
     "output_type": "execute_result"
    }
   ],
   "source": [
    "generate_answers_for_recommendation(recommend_answers(recommend_movies(test,3)))"
   ]
  },
  {
   "cell_type": "markdown",
   "metadata": {},
   "source": [
    "# KNN to recommend the movies"
   ]
  },
  {
   "cell_type": "code",
   "execution_count": null,
   "metadata": {},
   "outputs": [],
   "source": [
    "ml_ratings = pd.read_csv('./ratings.csv', usecols=['userId', 'movieId', 'rating'])\n"
   ]
  },
  {
   "cell_type": "markdown",
   "metadata": {},
   "source": [
    "# Multimedia"
   ]
  },
  {
   "cell_type": "code",
   "execution_count": 71,
   "metadata": {},
   "outputs": [],
   "source": [
    "test='Julia Roberts'"
   ]
  },
  {
   "cell_type": "code",
   "execution_count": 72,
   "metadata": {},
   "outputs": [],
   "source": [
    "class GraphOperations:\n",
    "    \"\"\"\n",
    "    Handles all operations on the graph:\n",
    "    - defines graph with fixed path that can be overwritten\n",
    "    - load graph\n",
    "    - query graph that returns the answer in a list\n",
    "    \"\"\"\n",
    "\n",
    "    def __init__(self, graph_file=\"14_graph.nt\"):\n",
    "        self.graph = rdflib.Graph()\n",
    "        self.load_graph(graph_file)\n",
    "\n",
    "    def load_graph(self, graph_file):\n",
    "        print(\"loading graph ...\")\n",
    "        self.graph.parse(graph_file, format=\"turtle\")\n",
    "        print(\"loaded graph successfully!\")\n",
    "\n",
    "    def query(self, message):\n",
    "        message = message.replace('\"\"\"', \"\").replace(\"'''\", \"\")\n",
    "        message = str(message)\n",
    "                \n",
    "        temp = [str(s) for s, in self.graph.query(message)]\n",
    "        # if temp!=[]:\n",
    "        #     print('temp answer: ',temp)\n",
    "\n",
    "        return temp"
   ]
  },
  {
   "cell_type": "code",
   "execution_count": 73,
   "metadata": {},
   "outputs": [
    {
     "name": "stdout",
     "output_type": "stream",
     "text": [
      "loading graph ...\n",
      "loaded graph successfully!\n"
     ]
    }
   ],
   "source": [
    "g=GraphOperations()"
   ]
  },
  {
   "cell_type": "code",
   "execution_count": 74,
   "metadata": {},
   "outputs": [],
   "source": [
    "def search_pictures(name):\n",
    "    query =f\"\"\"\n",
    "        PREFIX wd: <http://www.wikidata.org/entity/>\n",
    "        PREFIX wdt: <http://www.wikidata.org/prop/direct/>\n",
    "        PREFIX rdfs: <http://www.w3.org/2000/01/rdf-schema#>\n",
    "        SELECT ?website WHERE{{    \n",
    "            ?entity rdfs:label '{name}'@en.\n",
    "            ?entity wdt:P18 ?website.\n",
    "        }}\n",
    "        LIMIT 1\n",
    "    \"\"\"\n",
    "    search_website=g.query(query)\n",
    "    if search_website==[]:\n",
    "        return search_website,False\n",
    "    else:\n",
    "        return search_website,True"
   ]
  },
  {
   "cell_type": "code",
   "execution_count": 75,
   "metadata": {},
   "outputs": [],
   "source": [
    "#we should considerate many images are generated simultaneously\n",
    "#TODO:define a global count to name the images\n",
    "image_number=0"
   ]
  },
  {
   "cell_type": "code",
   "execution_count": 76,
   "metadata": {},
   "outputs": [],
   "source": [
    "def get_picture_as_answer(url_list_and_flag):\n",
    "    search_website,whether_found=url_list_and_flag\n",
    "    \n",
    "    global image_number\n",
    "    image_path=''\n",
    "    \n",
    "    if whether_found:\n",
    "        def download_picture(url,image_number):\n",
    "            \n",
    "            html_page = urllib.request.urlopen(url).read()\n",
    "            soup = BeautifulSoup(html_page)\n",
    "            href=soup.find_all(\"div\", {\"class\": \"fullImageLink\"})[0].find_all(\"a\")[0].get(\"href\")\n",
    "            \n",
    "            res=requests.get(href, stream = True)\n",
    "            \n",
    "            image_path=str(image_number)+'.jpg'\n",
    "            image_number+=1\n",
    "            \n",
    "            with open(image_path,'wb') as f:\n",
    "                shutil.copyfileobj(res.raw, f)        \n",
    "            return image_path,image_number\n",
    "\n",
    "        image_path,image_number=download_picture(search_website[0],image_number)\n",
    "    return whether_found,image_path"
   ]
  },
  {
   "cell_type": "code",
   "execution_count": 77,
   "metadata": {},
   "outputs": [],
   "source": [
    "def generate_answers_for_multimedia(whether_found_and_image_path):\n",
    "    whether_found,image_path=whether_found_and_image_path\n",
    "    if whether_found:\n",
    "        print(\"we should send image here, but I haven't known how yet, but the image is downloaded in {}\".format(image_path))\n",
    "        return 'The image has been send!'\n",
    "    return \"I haven't found the image, sorry!\""
   ]
  },
  {
   "cell_type": "code",
   "execution_count": 78,
   "metadata": {},
   "outputs": [
    {
     "name": "stdout",
     "output_type": "stream",
     "text": [
      "we should send image here, but I haven't known how yet, but the image is downloaded in 0.jpg\n"
     ]
    },
    {
     "data": {
      "text/plain": [
       "'The image has been send!'"
      ]
     },
     "execution_count": 78,
     "metadata": {},
     "output_type": "execute_result"
    }
   ],
   "source": [
    "generate_answers_for_multimedia(get_picture_as_answer(search_pictures(test)))"
   ]
  },
  {
   "cell_type": "markdown",
   "metadata": {},
   "source": [
    "# Crowdsourcing"
   ]
  },
  {
   "cell_type": "code",
   "execution_count": 79,
   "metadata": {},
   "outputs": [],
   "source": [
    "test=['wd:Q11621', 'wdt:P2142']"
   ]
  },
  {
   "cell_type": "code",
   "execution_count": 89,
   "metadata": {},
   "outputs": [],
   "source": [
    "crowd_df = pd.read_csv('./crowd_data.tsv', sep='\\t')\n",
    "# crowd_df.head()"
   ]
  },
  {
   "cell_type": "code",
   "execution_count": 90,
   "metadata": {
    "scrolled": true
   },
   "outputs": [
    {
     "data": {
      "text/html": [
       "<div>\n",
       "<style scoped>\n",
       "    .dataframe tbody tr th:only-of-type {\n",
       "        vertical-align: middle;\n",
       "    }\n",
       "\n",
       "    .dataframe tbody tr th {\n",
       "        vertical-align: top;\n",
       "    }\n",
       "\n",
       "    .dataframe thead th {\n",
       "        text-align: right;\n",
       "    }\n",
       "</style>\n",
       "<table border=\"1\" class=\"dataframe\">\n",
       "  <thead>\n",
       "    <tr style=\"text-align: right;\">\n",
       "      <th></th>\n",
       "      <th>HITId</th>\n",
       "      <th>Input1ID</th>\n",
       "      <th>Input2ID</th>\n",
       "      <th>Input3ID</th>\n",
       "      <th>AnswerLabel</th>\n",
       "    </tr>\n",
       "  </thead>\n",
       "  <tbody>\n",
       "    <tr>\n",
       "      <th>0</th>\n",
       "      <td>1</td>\n",
       "      <td>wd:Q11621</td>\n",
       "      <td>wdt:P2142</td>\n",
       "      <td>792910554</td>\n",
       "      <td>CORRECT</td>\n",
       "    </tr>\n",
       "    <tr>\n",
       "      <th>1</th>\n",
       "      <td>1</td>\n",
       "      <td>wd:Q11621</td>\n",
       "      <td>wdt:P2142</td>\n",
       "      <td>792910554</td>\n",
       "      <td>INCORRECT</td>\n",
       "    </tr>\n",
       "    <tr>\n",
       "      <th>2</th>\n",
       "      <td>1</td>\n",
       "      <td>wd:Q11621</td>\n",
       "      <td>wdt:P2142</td>\n",
       "      <td>792910554</td>\n",
       "      <td>CORRECT</td>\n",
       "    </tr>\n",
       "    <tr>\n",
       "      <th>3</th>\n",
       "      <td>1</td>\n",
       "      <td>wd:Q11621</td>\n",
       "      <td>wdt:P2142</td>\n",
       "      <td>792910554</td>\n",
       "      <td>CORRECT</td>\n",
       "    </tr>\n",
       "    <tr>\n",
       "      <th>4</th>\n",
       "      <td>2</td>\n",
       "      <td>wd:Q603545</td>\n",
       "      <td>wdt:P2142</td>\n",
       "      <td>4300000</td>\n",
       "      <td>INCORRECT</td>\n",
       "    </tr>\n",
       "  </tbody>\n",
       "</table>\n",
       "</div>"
      ],
      "text/plain": [
       "   HITId    Input1ID   Input2ID   Input3ID AnswerLabel\n",
       "0      1   wd:Q11621  wdt:P2142  792910554     CORRECT\n",
       "1      1   wd:Q11621  wdt:P2142  792910554   INCORRECT\n",
       "2      1   wd:Q11621  wdt:P2142  792910554     CORRECT\n",
       "3      1   wd:Q11621  wdt:P2142  792910554     CORRECT\n",
       "4      2  wd:Q603545  wdt:P2142    4300000   INCORRECT"
      ]
     },
     "execution_count": 90,
     "metadata": {},
     "output_type": "execute_result"
    }
   ],
   "source": [
    "normal_raters_map=(np.char.replace(crowd_df['LifetimeApprovalRate'].to_numpy(dtype=str),'%','').astype(int)>45)\n",
    "crowd_df=crowd_df[normal_raters_map]\n",
    "crowd_df=crowd_df[['HITId','Input1ID','Input2ID','Input3ID','AnswerLabel']].reset_index(drop=True)\n",
    "crowd_df.head()"
   ]
  },
  {
   "cell_type": "code",
   "execution_count": 91,
   "metadata": {},
   "outputs": [],
   "source": [
    "def process_crowd(crowd_df):\n",
    "    crowd_numpy=crowd_df.to_numpy().tolist()\n",
    "\n",
    "    question_id=0\n",
    "    rdf_turple=[]\n",
    "    people_views=[]\n",
    "    correct_number=0\n",
    "    incorrect_number=0\n",
    "\n",
    "    for survey_data in crowd_numpy:\n",
    "        if survey_data[0]!=question_id:\n",
    "            people_views.append([correct_number,incorrect_number])\n",
    "            correct_number=0\n",
    "            incorrect_number=0\n",
    "            question_id+=1\n",
    "            rdf_turple.append([survey_data[1],survey_data[2],survey_data[3]])\n",
    "            if survey_data[4]=='CORRECT':\n",
    "                correct_number+=1\n",
    "            else:\n",
    "                incorrect_number+=1\n",
    "        else:\n",
    "            if survey_data[4]=='CORRECT':\n",
    "                correct_number+=1\n",
    "            else:\n",
    "                incorrect_number+=1\n",
    "\n",
    "\n",
    "    people_views.append([correct_number,incorrect_number])\n",
    "    people_views=people_views[1:]\n",
    "    people_views=np.array(people_views,dtype=int)\n",
    "\n",
    "    people_number=sum(people_views[0])\n",
    "    evaluations_number=len(rdf_turple)\n",
    "\n",
    "#     print(rdf_turple)\n",
    "#     print(len(rdf_turple))\n",
    "#     print(people_views)\n",
    "#     print(len(people_views))\n",
    "    \n",
    "    \n",
    "    \n",
    "    \n",
    "    # cal k in total\n",
    "\n",
    "    p1=np.sum(people_views[:,0])/(people_number*evaluations_number)\n",
    "    p2=np.sum(people_views[:,1])/(people_number*evaluations_number)\n",
    "    P=(np.sum(np.square(people_views),axis=1)-people_number)/(people_number*(people_number-1))\n",
    "    average_P=np.sum(P)/evaluations_number\n",
    "    average_p_e=np.square(p1)+np.square(p2)\n",
    "    total_k=(average_P-average_p_e)/(1-average_p_e)    \n",
    "    \n",
    "    \n",
    "    return rdf_turple,people_views,total_k"
   ]
  },
  {
   "cell_type": "code",
   "execution_count": 92,
   "metadata": {},
   "outputs": [],
   "source": [
    "def generate_answers_for_crowdsourcing(crowd_df,test):\n",
    "    rdf_turple,people_views,total_k=process_crowd(crowd_df)\n",
    "    \n",
    "#     print(rdf_turple)\n",
    "#     print(people_views)\n",
    "    \n",
    "    for i in range(len(rdf_turple)):\n",
    "        if rdf_turple[i][0]==test[0] and rdf_turple[i][1]==test[1]:\n",
    "            return rdf_turple[i][2],people_views[i],cal_k(people_views[i]),total_k\n",
    "\n",
    "        \n",
    "def cal_k(people_approvals):\n",
    "    people_number=4\n",
    "    evaluations_number=1\n",
    "    p1=(people_approvals[0])/(people_number*evaluations_number)\n",
    "    p2=(people_approvals[1])/(people_number*evaluations_number)\n",
    "    P=(np.sum(np.square(people_approvals))-people_number)/(people_number*(people_number-1))\n",
    "\n",
    "    average_P=P/evaluations_number\n",
    "    average_p_e=np.square(p1)+np.square(p2)\n",
    "        \n",
    "    k=(average_P-average_p_e)/(1-average_p_e)\n",
    "    return k"
   ]
  },
  {
   "cell_type": "code",
   "execution_count": 95,
   "metadata": {},
   "outputs": [
    {
     "data": {
      "text/plain": [
       "('792910554', array([3, 1]), -0.3333333333333333, 0.00974025974025935)"
      ]
     },
     "execution_count": 95,
     "metadata": {},
     "output_type": "execute_result"
    }
   ],
   "source": [
    "generate_answers_for_crowdsourcing(crowd_df,test)\n",
    "#answer, people's views(3 for voting and 1 for rejecting), k for this question, k for the whole graph"
   ]
  },
  {
   "cell_type": "code",
   "execution_count": null,
   "metadata": {},
   "outputs": [],
   "source": []
  }
 ],
 "metadata": {
  "kernelspec": {
   "display_name": "Python 3 (ipykernel)",
   "language": "python",
   "name": "python3"
  },
  "language_info": {
   "codemirror_mode": {
    "name": "ipython",
    "version": 3
   },
   "file_extension": ".py",
   "mimetype": "text/x-python",
   "name": "python",
   "nbconvert_exporter": "python",
   "pygments_lexer": "ipython3",
   "version": "3.8.18"
  },
  "vscode": {
   "interpreter": {
    "hash": "ce2cff08cd15a34cfbbe13a586664ebd350757fd030a545d831779bd59aaad32"
   }
  }
 },
 "nbformat": 4,
 "nbformat_minor": 4
}
