{
 "cells": [
  {
   "cell_type": "code",
   "execution_count": 13,
   "metadata": {},
   "outputs": [
    {
     "name": "stdout",
     "output_type": "stream",
     "text": [
      "Evaluating RMSE, MAE of algorithm SVD on 5 split(s).\n",
      "\n",
      "                  Fold 1  Fold 2  Fold 3  Fold 4  Fold 5  Mean    Std     \n",
      "RMSE (testset)    0.9379  0.9365  0.9326  0.9394  0.9321  0.9357  0.0029  \n",
      "MAE (testset)     0.7407  0.7394  0.7352  0.7380  0.7347  0.7376  0.0023  \n",
      "Fit time          1.37    1.32    1.34    1.30    1.27    1.32    0.03    \n",
      "Test time         0.10    0.11    0.20    0.19    0.20    0.16    0.05    \n"
     ]
    },
    {
     "data": {
      "text/plain": [
       "{'test_rmse': array([0.93792803, 0.93646905, 0.9326059 , 0.93941414, 0.93205087]),\n",
       " 'test_mae': array([0.74066678, 0.73935448, 0.73520996, 0.73799305, 0.73466512]),\n",
       " 'fit_time': (1.3684439659118652,\n",
       "  1.3217017650604248,\n",
       "  1.3424072265625,\n",
       "  1.3016164302825928,\n",
       "  1.2675318717956543),\n",
       " 'test_time': (0.09566092491149902,\n",
       "  0.10913205146789551,\n",
       "  0.19500494003295898,\n",
       "  0.18798184394836426,\n",
       "  0.20281982421875)}"
      ]
     },
     "execution_count": 13,
     "metadata": {},
     "output_type": "execute_result"
    }
   ],
   "source": [
    "# Importing necessary libraries\n",
    "from surprise import SVD, Dataset, Reader\n",
    "from surprise.model_selection import cross_validate\n",
    "\n",
    "# Load the movielens-100k dataset\n",
    "data = Dataset.load_builtin('ml-100k')\n",
    "\n",
    "# Use the SVD algorithm\n",
    "algo = SVD()\n",
    "\n",
    "# Perform cross validation\n",
    "cross_validate(algo, data, measures=['RMSE', 'MAE'], cv=5, verbose=True)\n"
   ]
  }
 ],
 "metadata": {
  "kernelspec": {
   "display_name": "venv",
   "language": "python",
   "name": "python3"
  },
  "language_info": {
   "codemirror_mode": {
    "name": "ipython",
    "version": 3
   },
   "file_extension": ".py",
   "mimetype": "text/x-python",
   "name": "python",
   "nbconvert_exporter": "python",
   "pygments_lexer": "ipython3",
   "version": "3.10.12"
  }
 },
 "nbformat": 4,
 "nbformat_minor": 2
}
