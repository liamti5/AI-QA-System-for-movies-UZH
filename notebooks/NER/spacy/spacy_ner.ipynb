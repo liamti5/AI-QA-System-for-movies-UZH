{
 "cells": [
  {
   "cell_type": "code",
   "execution_count": 1,
   "metadata": {},
   "outputs": [],
   "source": [
    "closed_questions_dev = [\n",
    "    \"Who is the director of 'Inception'?\",\n",
    "    \"Who directed 'Pulp Fiction'?\",\n",
    "    \"Tell me who directed 'The Shape of Water'?\",\n",
    "    \"Who is the filmmaker of 'Get Out'?\",\n",
    "    \"Which director took charge of 'The Grand Budapest Hotel'?\",\n",
    "    \"Who's the person behind the direction of 'Moonlight'?\",\n",
    "    \"Who helmed the direction of 'Mad Max: Fury Road'?\",\n",
    "    \"Who is the screenwriter of 'Eternal Sunshine of the Spotless Mind'?\",\n",
    "    \"Who wrote the screenplay for 'Her'?\",\n",
    "    \"Which writer was responsible for 'The Social Network'?\",\n",
    "    \"Who's credited as the screenwriter for 'Juno'?\",\n",
    "    \"What is the MPAA film rating of 'Joker'?\",\n",
    "    \"What's the censorship rating of 'The Dark Knight' by MPAA?\",\n",
    "    \"What is the genre of 'Blade Runner 2049'?\",\n",
    "    \"Which genre does 'Parasite' belong to?\",\n",
    "]\n",
    "\n",
    "recommendation_questions_dev = [\n",
    "    \"Recommend movies similar to 'The Matrix'.\",\n",
    "    \"What are some films similar to 'Interstellar'?\",\n",
    "    \"Can you suggest movies that are like 'Arrival'?\",\n",
    "    \"If I enjoyed 'Blade Runner 2049', what other movies would you suggest?\",\n",
    "    \"Which films would you recommend if I loved 'The Lord of the Rings'?\",\n",
    "    \"Given that I like 'The Godfather', 'Goodfellas', 'Casino', can you recommend some movies?\",\n",
    "    \"Based on my liking for 'Fight Club', 'Se7en', 'Gone Girl', suggest some films.\",\n",
    "    \"I enjoy watching 'Amelie', 'La La Land', and 'The Grand Budapest Hotel'. What else would you recommend?\",\n",
    "    \"Recommend movies like 'Alien', 'Prometheus', and 'The Martian'\",\n",
    "    \"Can you suggest films similar to 'Saving Private Ryan', 'Platoon', and 'Full Metal Jacket'?\",\n",
    "    \"Based on my preference for 'Forrest Gump', 'The Shawshank Redemption', and 'The Green Mile', what else should I watch?\",\n",
    "    \"I like 'The Silence of the Lambs', so recommend similar movies\",\n",
    "    \"If I enjoyed 'The Shining', what other films would you suggest?\",\n",
    "    \"Movies similar to 'Psycho' are what I'm looking for. Recommendations?\",\n",
    "]\n",
    "\n",
    "when_questions_dev = [\n",
    "    \"When was 'Titanic' released?\",\n",
    "    \"On which date was 'The Lion King' released?\",\n",
    "    \"Can you tell me when 'Schindler's List' was released?\",\n",
    "    \"Which day did 'Jurassic Park' hit the theaters?\",\n",
    "    \"What is the release date of 'Avatar'?\",\n",
    "    \"Tell me the release date of 'The Avengers'.\",\n",
    "    \"When exactly was 'Harry Potter and the Philosopher's Stone' made available to the public?\",\n",
    "    \"Which year was 'Star Wars: Episode IV - A New Hope' released?\",\n",
    "    \"In what year did 'Back to the Future' come out?\",\n",
    "    \"When did 'Indiana Jones and the Raiders of the Lost Ark' come out?\",\n",
    "    \"On which day was 'The Empire Strikes Back' first shown?\",\n",
    "    \"When was the premiere of 'The Godfather'?\",\n",
    "]\n",
    "\n",
    "multimedia_questions_dev = [\n",
    "    \"Show me a picture of 'Leonardo DiCaprio'.\",\n",
    "    \"Can you display a photo of 'Jennifer Lawrence'?\",\n",
    "    \"I'd like to see a photograph of 'Brad Pitt'.\",\n",
    "    \"Provide me with a picture of 'Meryl Streep'.\",\n",
    "    \"What does 'Denzel Washington' look like?\",\n",
    "    \"Can you describe 'Angelina Jolie's' appearance?\",\n",
    "    \"Tell me about 'Tom Hanks's'physical appearance.\",\n",
    "    \"Let me know what 'Charlize Theron' looks like.\",\n",
    "    \"Give me an idea of 'Johnny Depp's' looks.\",\n",
    "    \"Provide a description or image of 'Natalie Portman'.\",\n",
    "]\n",
    "\n"
   ]
  },
  {
   "cell_type": "code",
   "execution_count": 2,
   "metadata": {},
   "outputs": [],
   "source": [
    "def convert_to_spacy_format(questions, entity_type):\n",
    "    \"\"\"\n",
    "    Convert a list of questions to spaCy training data format.\n",
    "    :param questions: A list of questions.\n",
    "    :param entity_type: The type of entity to be extracted (e.g., 'MOVIE', 'ACTOR').\n",
    "    :return: A list of tuples in spaCy training data format.\n",
    "    \"\"\"\n",
    "    training_data = []\n",
    "    for question in questions:\n",
    "        # Find the start and end indices of the entity (movie or actor name)\n",
    "        start_index = question.find(\"'\")\n",
    "        end_index = question.find(\"'\", start_index + 1)\n",
    "        # Remove the quotes from the question\n",
    "        text = question.replace(\"'\", \"\")\n",
    "        if start_index != -1 and end_index != -1:\n",
    "            # Adjust indices after removing quotes\n",
    "            start_index -= question.count(\"'\", 0, start_index)\n",
    "            end_index -= question.count(\"'\", 0, end_index)\n",
    "            # Append to the training data\n",
    "            training_data.append((text, {'entities': [(start_index, end_index, entity_type)]}))\n",
    "        else:\n",
    "            # No entity found\n",
    "            training_data.append((text, {'entities': []}))\n",
    "\n",
    "    return training_data\n",
    "\n"
   ]
  },
  {
   "cell_type": "code",
   "execution_count": 3,
   "metadata": {},
   "outputs": [],
   "source": [
    "questions_movie = closed_questions_dev + recommendation_questions_dev + when_questions_dev\n",
    "questions_actor = multimedia_questions_dev\n",
    "training_data = convert_to_spacy_format(questions_movie, 'MOVIE')\n",
    "training_data += convert_to_spacy_format(questions_actor, 'ACTOR')\n"
   ]
  },
  {
   "cell_type": "code",
   "execution_count": 4,
   "metadata": {},
   "outputs": [
    {
     "data": {
      "text/plain": [
       "[('Who is the director of Inception?', {'entities': [(23, 32, 'MOVIE')]}),\n",
       " ('Who directed Pulp Fiction?', {'entities': [(13, 25, 'MOVIE')]}),\n",
       " ('Tell me who directed The Shape of Water?',\n",
       "  {'entities': [(21, 39, 'MOVIE')]}),\n",
       " ('Who is the filmmaker of Get Out?', {'entities': [(24, 31, 'MOVIE')]}),\n",
       " ('Which director took charge of The Grand Budapest Hotel?',\n",
       "  {'entities': [(30, 54, 'MOVIE')]}),\n",
       " ('Whos the person behind the direction of Moonlight?',\n",
       "  {'entities': [(3, 40, 'MOVIE')]}),\n",
       " ('Who helmed the direction of Mad Max: Fury Road?',\n",
       "  {'entities': [(28, 46, 'MOVIE')]}),\n",
       " ('Who is the screenwriter of Eternal Sunshine of the Spotless Mind?',\n",
       "  {'entities': [(27, 64, 'MOVIE')]}),\n",
       " ('Who wrote the screenplay for Her?', {'entities': [(29, 32, 'MOVIE')]}),\n",
       " ('Which writer was responsible for The Social Network?',\n",
       "  {'entities': [(33, 51, 'MOVIE')]}),\n",
       " ('Whos credited as the screenwriter for Juno?',\n",
       "  {'entities': [(3, 38, 'MOVIE')]}),\n",
       " ('What is the MPAA film rating of Joker?', {'entities': [(32, 37, 'MOVIE')]}),\n",
       " ('Whats the censorship rating of The Dark Knight by MPAA?',\n",
       "  {'entities': [(4, 31, 'MOVIE')]}),\n",
       " ('What is the genre of Blade Runner 2049?',\n",
       "  {'entities': [(21, 38, 'MOVIE')]}),\n",
       " ('Which genre does Parasite belong to?', {'entities': [(17, 25, 'MOVIE')]}),\n",
       " ('Recommend movies similar to The Matrix.',\n",
       "  {'entities': [(28, 38, 'MOVIE')]}),\n",
       " ('What are some films similar to Interstellar?',\n",
       "  {'entities': [(31, 43, 'MOVIE')]}),\n",
       " ('Can you suggest movies that are like Arrival?',\n",
       "  {'entities': [(37, 44, 'MOVIE')]}),\n",
       " ('If I enjoyed Blade Runner 2049, what other movies would you suggest?',\n",
       "  {'entities': [(13, 30, 'MOVIE')]}),\n",
       " ('Which films would you recommend if I loved The Lord of the Rings?',\n",
       "  {'entities': [(43, 64, 'MOVIE')]}),\n",
       " ('Given that I like The Godfather, Goodfellas, Casino, can you recommend some movies?',\n",
       "  {'entities': [(18, 31, 'MOVIE')]}),\n",
       " ('Based on my liking for Fight Club, Se7en, Gone Girl, suggest some films.',\n",
       "  {'entities': [(23, 33, 'MOVIE')]}),\n",
       " ('I enjoy watching Amelie, La La Land, and The Grand Budapest Hotel. What else would you recommend?',\n",
       "  {'entities': [(17, 23, 'MOVIE')]}),\n",
       " ('Recommend movies like Alien, Prometheus, and The Martian',\n",
       "  {'entities': [(22, 27, 'MOVIE')]}),\n",
       " ('Can you suggest films similar to Saving Private Ryan, Platoon, and Full Metal Jacket?',\n",
       "  {'entities': [(33, 52, 'MOVIE')]}),\n",
       " ('Based on my preference for Forrest Gump, The Shawshank Redemption, and The Green Mile, what else should I watch?',\n",
       "  {'entities': [(27, 39, 'MOVIE')]}),\n",
       " ('I like The Silence of the Lambs, so recommend similar movies',\n",
       "  {'entities': [(7, 31, 'MOVIE')]}),\n",
       " ('If I enjoyed The Shining, what other films would you suggest?',\n",
       "  {'entities': [(13, 24, 'MOVIE')]}),\n",
       " ('Movies similar to Psycho are what Im looking for. Recommendations?',\n",
       "  {'entities': [(18, 24, 'MOVIE')]}),\n",
       " ('When was Titanic released?', {'entities': [(9, 16, 'MOVIE')]}),\n",
       " ('On which date was The Lion King released?',\n",
       "  {'entities': [(18, 31, 'MOVIE')]}),\n",
       " ('Can you tell me when Schindlers List was released?',\n",
       "  {'entities': [(21, 30, 'MOVIE')]}),\n",
       " ('Which day did Jurassic Park hit the theaters?',\n",
       "  {'entities': [(14, 27, 'MOVIE')]}),\n",
       " ('What is the release date of Avatar?', {'entities': [(28, 34, 'MOVIE')]}),\n",
       " ('Tell me the release date of The Avengers.',\n",
       "  {'entities': [(28, 40, 'MOVIE')]}),\n",
       " ('When exactly was Harry Potter and the Philosophers Stone made available to the public?',\n",
       "  {'entities': [(17, 49, 'MOVIE')]}),\n",
       " ('Which year was Star Wars: Episode IV - A New Hope released?',\n",
       "  {'entities': [(15, 49, 'MOVIE')]}),\n",
       " ('In what year did Back to the Future come out?',\n",
       "  {'entities': [(17, 35, 'MOVIE')]}),\n",
       " ('When did Indiana Jones and the Raiders of the Lost Ark come out?',\n",
       "  {'entities': [(9, 54, 'MOVIE')]}),\n",
       " ('On which day was The Empire Strikes Back first shown?',\n",
       "  {'entities': [(17, 40, 'MOVIE')]}),\n",
       " ('When was the premiere of The Godfather?',\n",
       "  {'entities': [(25, 38, 'MOVIE')]}),\n",
       " ('Show me a picture of Leonardo DiCaprio.',\n",
       "  {'entities': [(21, 38, 'ACTOR')]}),\n",
       " ('Can you display a photo of Jennifer Lawrence?',\n",
       "  {'entities': [(27, 44, 'ACTOR')]}),\n",
       " ('Id like to see a photograph of Brad Pitt.',\n",
       "  {'entities': [(1, 31, 'ACTOR')]}),\n",
       " ('Provide me with a picture of Meryl Streep.',\n",
       "  {'entities': [(29, 41, 'ACTOR')]}),\n",
       " ('What does Denzel Washington look like?', {'entities': [(10, 27, 'ACTOR')]}),\n",
       " ('Can you describe Angelina Jolies appearance?',\n",
       "  {'entities': [(17, 31, 'ACTOR')]}),\n",
       " ('Tell me about Tom Hankssphysical appearance.',\n",
       "  {'entities': [(14, 23, 'ACTOR')]}),\n",
       " ('Let me know what Charlize Theron looks like.',\n",
       "  {'entities': [(17, 32, 'ACTOR')]}),\n",
       " ('Give me an idea of Johnny Depps looks.', {'entities': [(19, 30, 'ACTOR')]}),\n",
       " ('Provide a description or image of Natalie Portman.',\n",
       "  {'entities': [(34, 49, 'ACTOR')]})]"
      ]
     },
     "execution_count": 4,
     "metadata": {},
     "output_type": "execute_result"
    }
   ],
   "source": [
    "training_data"
   ]
  },
  {
   "cell_type": "code",
   "execution_count": 12,
   "metadata": {},
   "outputs": [],
   "source": [
    "test_data = [\n",
    "    (\"Who starred in Titanic?\", {'entities': [(16, 23, 'MOVIE')]}),\n",
    "    (\"What film did Leonardo DiCaprio act in?\", {'entities': [(9, 26, 'ACTOR')]}),\n",
    "    (\"Can you name the director of The Shawshank Redemption?\", {'entities': [(30, 53, 'MOVIE')]}),\n",
    "    (\"Which movie featured Brad Pitt?\", {'entities': [(24, 33, 'ACTOR')]}),\n",
    "    (\"Who directed Avatar?\", {'entities': [(13, 19, 'MOVIE')]}),\n",
    "    (\"Who played the lead in Inception?\", {'entities': [(25, 34, 'MOVIE')]}),\n",
    "    (\"What's the latest film by Quentin Tarantino?\", {'entities': [(27, 43, 'ACTOR')]}),\n",
    "    (\"Name a movie starring Natalie Portman.\", {'entities': [(24, 39, 'ACTOR')]}),\n",
    "    (\"Who was the lead actor in Blade Runner 2049?\", {'entities': [(30, 47, 'MOVIE')]}),\n",
    "    (\"Which film did Tom Hanks act in?\", {'entities': [(13, 22, 'ACTOR')]}),\n",
    "    (\"What is the genre of Pulp Fiction?\", {'entities': [(19, 31, 'MOVIE')]}),\n",
    "    (\"Who wrote the screenplay for The Matrix?\", {'entities': [(32, 42, 'MOVIE')]}),\n",
    "]\n"
   ]
  },
  {
   "cell_type": "code",
   "execution_count": 13,
   "metadata": {},
   "outputs": [
    {
     "data": {
      "text/plain": [
       "[('Who starred in Titanic?', {'entities': [(16, 23, 'MOVIE')]}),\n",
       " ('What film did Leonardo DiCaprio act in?', {'entities': [(9, 26, 'ACTOR')]}),\n",
       " ('Can you name the director of The Shawshank Redemption?',\n",
       "  {'entities': [(30, 53, 'MOVIE')]}),\n",
       " ('Which movie featured Brad Pitt?', {'entities': [(24, 33, 'ACTOR')]}),\n",
       " ('Who directed Avatar?', {'entities': [(13, 19, 'MOVIE')]}),\n",
       " ('Who played the lead in Inception?', {'entities': [(25, 34, 'MOVIE')]}),\n",
       " (\"What's the latest film by Quentin Tarantino?\",\n",
       "  {'entities': [(27, 43, 'ACTOR')]}),\n",
       " ('Name a movie starring Natalie Portman.', {'entities': [(24, 39, 'ACTOR')]}),\n",
       " ('Who was the lead actor in Blade Runner 2049?',\n",
       "  {'entities': [(30, 47, 'MOVIE')]}),\n",
       " ('Which film did Tom Hanks act in?', {'entities': [(13, 22, 'ACTOR')]}),\n",
       " ('What is the genre of Pulp Fiction?', {'entities': [(19, 31, 'MOVIE')]}),\n",
       " ('Who wrote the screenplay for The Matrix?',\n",
       "  {'entities': [(32, 42, 'MOVIE')]})]"
      ]
     },
     "execution_count": 13,
     "metadata": {},
     "output_type": "execute_result"
    }
   ],
   "source": [
    "test_data"
   ]
  },
  {
   "cell_type": "code",
   "execution_count": 24,
   "metadata": {},
   "outputs": [
    {
     "data": {
      "text/plain": [
       "'./train.spacy'"
      ]
     },
     "execution_count": 24,
     "metadata": {},
     "output_type": "execute_result"
    }
   ],
   "source": [
    "import spacy\n",
    "from spacy.tokens import DocBin\n",
    "from tqdm import tqdm\n",
    "\n",
    "# We will use the previously formatted TRAIN_DATA to create the .spacy file\n",
    "# The nlp object is created as a blank English model\n",
    "nlp = spacy.load(\"en_core_web_sm\")\n",
    "\n",
    "# The DocBin is used to store the documents\n",
    "db = DocBin()\n",
    "\n",
    "\n",
    "for text, annotations in training_data:\n",
    "    # Create a spacy document from the text\n",
    "    doc = nlp.make_doc(text)\n",
    "    ents = []\n",
    "    for start, end, label in annotations['entities']:\n",
    "        span = doc.char_span(start, end, label=label)\n",
    "        if span is not None:\n",
    "            ents.append(span)\n",
    "    doc.ents = ents\n",
    "    db.add(doc)\n",
    "\n",
    "# Save the DocBin to a .spacy file\n",
    "spacy_file_path = \"./train.spacy\"\n",
    "db.to_disk(spacy_file_path)\n",
    "\n",
    "spacy_file_path  # Returning the file path to the user"
   ]
  },
  {
   "cell_type": "code",
   "execution_count": 41,
   "metadata": {},
   "outputs": [
    {
     "data": {
      "text/html": [
       "<span class=\"tex2jax_ignore\"><div class=\"entities\" style=\"line-height: 2.5; direction: ltr\">Who is the director of Good Will Hunting?</div></span>"
      ],
      "text/plain": [
       "<IPython.core.display.HTML object>"
      ]
     },
     "metadata": {},
     "output_type": "display_data"
    }
   ],
   "source": [
    "nlp1 = spacy.load(\"output/model-last/\")  # load the best model\n",
    "# input sample text\n",
    "doc = nlp1(\"Who is the director of Good Will Hunting?\")\n",
    "\n",
    "spacy.displacy.render(doc, style=\"ent\", jupyter=True) # display in Jupyter"
   ]
  },
  {
   "cell_type": "code",
   "execution_count": 34,
   "metadata": {},
   "outputs": [
    {
     "data": {
      "text/html": [
       "<span class=\"tex2jax_ignore\"><div class=\"entities\" style=\"line-height: 2.5; direction: ltr\">Who starred in \n",
       "<mark class=\"entity\" style=\"background: #ddd; padding: 0.45em 0.6em; margin: 0 0.25em; line-height: 1; border-radius: 0.35em;\">\n",
       "    Titanic\n",
       "    <span style=\"font-size: 0.8em; font-weight: bold; line-height: 1; border-radius: 0.35em; vertical-align: middle; margin-left: 0.5rem\">MOVIE</span>\n",
       "</mark>\n",
       "?</div></span>"
      ],
      "text/plain": [
       "<IPython.core.display.HTML object>"
      ]
     },
     "metadata": {},
     "output_type": "display_data"
    },
    {
     "data": {
      "text/html": [
       "<span class=\"tex2jax_ignore\"><div class=\"entities\" style=\"line-height: 2.5; direction: ltr\">What film did \n",
       "<mark class=\"entity\" style=\"background: #ddd; padding: 0.45em 0.6em; margin: 0 0.25em; line-height: 1; border-radius: 0.35em;\">\n",
       "    Leonardo DiCaprio\n",
       "    <span style=\"font-size: 0.8em; font-weight: bold; line-height: 1; border-radius: 0.35em; vertical-align: middle; margin-left: 0.5rem\">ACTOR</span>\n",
       "</mark>\n",
       " act in?</div></span>"
      ],
      "text/plain": [
       "<IPython.core.display.HTML object>"
      ]
     },
     "metadata": {},
     "output_type": "display_data"
    },
    {
     "data": {
      "text/html": [
       "<span class=\"tex2jax_ignore\"><div class=\"entities\" style=\"line-height: 2.5; direction: ltr\">Can you name the director of \n",
       "<mark class=\"entity\" style=\"background: #ddd; padding: 0.45em 0.6em; margin: 0 0.25em; line-height: 1; border-radius: 0.35em;\">\n",
       "    The Shawshank Redemption\n",
       "    <span style=\"font-size: 0.8em; font-weight: bold; line-height: 1; border-radius: 0.35em; vertical-align: middle; margin-left: 0.5rem\">MOVIE</span>\n",
       "</mark>\n",
       "?</div></span>"
      ],
      "text/plain": [
       "<IPython.core.display.HTML object>"
      ]
     },
     "metadata": {},
     "output_type": "display_data"
    },
    {
     "data": {
      "text/html": [
       "<span class=\"tex2jax_ignore\"><div class=\"entities\" style=\"line-height: 2.5; direction: ltr\">Which movie featured Brad Pitt?</div></span>"
      ],
      "text/plain": [
       "<IPython.core.display.HTML object>"
      ]
     },
     "metadata": {},
     "output_type": "display_data"
    },
    {
     "data": {
      "text/html": [
       "<span class=\"tex2jax_ignore\"><div class=\"entities\" style=\"line-height: 2.5; direction: ltr\">Who directed \n",
       "<mark class=\"entity\" style=\"background: #ddd; padding: 0.45em 0.6em; margin: 0 0.25em; line-height: 1; border-radius: 0.35em;\">\n",
       "    Avatar\n",
       "    <span style=\"font-size: 0.8em; font-weight: bold; line-height: 1; border-radius: 0.35em; vertical-align: middle; margin-left: 0.5rem\">MOVIE</span>\n",
       "</mark>\n",
       "?</div></span>"
      ],
      "text/plain": [
       "<IPython.core.display.HTML object>"
      ]
     },
     "metadata": {},
     "output_type": "display_data"
    },
    {
     "data": {
      "text/html": [
       "<span class=\"tex2jax_ignore\"><div class=\"entities\" style=\"line-height: 2.5; direction: ltr\">Who played the lead in \n",
       "<mark class=\"entity\" style=\"background: #ddd; padding: 0.45em 0.6em; margin: 0 0.25em; line-height: 1; border-radius: 0.35em;\">\n",
       "    Inception\n",
       "    <span style=\"font-size: 0.8em; font-weight: bold; line-height: 1; border-radius: 0.35em; vertical-align: middle; margin-left: 0.5rem\">MOVIE</span>\n",
       "</mark>\n",
       "?</div></span>"
      ],
      "text/plain": [
       "<IPython.core.display.HTML object>"
      ]
     },
     "metadata": {},
     "output_type": "display_data"
    },
    {
     "data": {
      "text/html": [
       "<span class=\"tex2jax_ignore\"><div class=\"entities\" style=\"line-height: 2.5; direction: ltr\">What's the latest film by Quentin Tarantino?</div></span>"
      ],
      "text/plain": [
       "<IPython.core.display.HTML object>"
      ]
     },
     "metadata": {},
     "output_type": "display_data"
    },
    {
     "data": {
      "text/html": [
       "<span class=\"tex2jax_ignore\"><div class=\"entities\" style=\"line-height: 2.5; direction: ltr\">Name a movie starring \n",
       "<mark class=\"entity\" style=\"background: #ddd; padding: 0.45em 0.6em; margin: 0 0.25em; line-height: 1; border-radius: 0.35em;\">\n",
       "    Natalie Portman\n",
       "    <span style=\"font-size: 0.8em; font-weight: bold; line-height: 1; border-radius: 0.35em; vertical-align: middle; margin-left: 0.5rem\">ACTOR</span>\n",
       "</mark>\n",
       ".</div></span>"
      ],
      "text/plain": [
       "<IPython.core.display.HTML object>"
      ]
     },
     "metadata": {},
     "output_type": "display_data"
    },
    {
     "data": {
      "text/html": [
       "<span class=\"tex2jax_ignore\"><div class=\"entities\" style=\"line-height: 2.5; direction: ltr\">Who was the lead actor in \n",
       "<mark class=\"entity\" style=\"background: #ddd; padding: 0.45em 0.6em; margin: 0 0.25em; line-height: 1; border-radius: 0.35em;\">\n",
       "    Blade Runner 2049\n",
       "    <span style=\"font-size: 0.8em; font-weight: bold; line-height: 1; border-radius: 0.35em; vertical-align: middle; margin-left: 0.5rem\">MOVIE</span>\n",
       "</mark>\n",
       "?</div></span>"
      ],
      "text/plain": [
       "<IPython.core.display.HTML object>"
      ]
     },
     "metadata": {},
     "output_type": "display_data"
    },
    {
     "data": {
      "text/html": [
       "<span class=\"tex2jax_ignore\"><div class=\"entities\" style=\"line-height: 2.5; direction: ltr\">Which film did Tom Hanks act in?</div></span>"
      ],
      "text/plain": [
       "<IPython.core.display.HTML object>"
      ]
     },
     "metadata": {},
     "output_type": "display_data"
    },
    {
     "data": {
      "text/html": [
       "<span class=\"tex2jax_ignore\"><div class=\"entities\" style=\"line-height: 2.5; direction: ltr\">What is the genre of \n",
       "<mark class=\"entity\" style=\"background: #ddd; padding: 0.45em 0.6em; margin: 0 0.25em; line-height: 1; border-radius: 0.35em;\">\n",
       "    Pulp Fiction\n",
       "    <span style=\"font-size: 0.8em; font-weight: bold; line-height: 1; border-radius: 0.35em; vertical-align: middle; margin-left: 0.5rem\">MOVIE</span>\n",
       "</mark>\n",
       "?</div></span>"
      ],
      "text/plain": [
       "<IPython.core.display.HTML object>"
      ]
     },
     "metadata": {},
     "output_type": "display_data"
    },
    {
     "data": {
      "text/html": [
       "<span class=\"tex2jax_ignore\"><div class=\"entities\" style=\"line-height: 2.5; direction: ltr\">Who wrote the screenplay for \n",
       "<mark class=\"entity\" style=\"background: #ddd; padding: 0.45em 0.6em; margin: 0 0.25em; line-height: 1; border-radius: 0.35em;\">\n",
       "    The Matrix\n",
       "    <span style=\"font-size: 0.8em; font-weight: bold; line-height: 1; border-radius: 0.35em; vertical-align: middle; margin-left: 0.5rem\">MOVIE</span>\n",
       "</mark>\n",
       "?</div></span>"
      ],
      "text/plain": [
       "<IPython.core.display.HTML object>"
      ]
     },
     "metadata": {},
     "output_type": "display_data"
    }
   ],
   "source": [
    "TEST_DATA = [\n",
    "    (\"Who starred in Titanic?\", {'entities': [(16, 23, 'MOVIE')]}),\n",
    "    (\"What film did Leonardo DiCaprio act in?\", {'entities': [(9, 26, 'ENTITY')]}),\n",
    "    (\"Can you name the director of The Shawshank Redemption?\", {'entities': [(30, 53, 'MOVIE')]}),\n",
    "    (\"Which movie featured Brad Pitt?\", {'entities': [(24, 33, 'ACTOR')]}),\n",
    "    (\"Who directed Avatar?\", {'entities': [(13, 19, 'MOVIE')]}),\n",
    "    (\"Who played the lead in Inception?\", {'entities': [(25, 34, 'MOVIE')]}),\n",
    "    (\"What's the latest film by Quentin Tarantino?\", {'entities': [(27, 43, 'ACTOR')]}),\n",
    "    (\"Name a movie starring Natalie Portman.\", {'entities': [(24, 39, 'ACTOR')]}),\n",
    "    (\"Who was the lead actor in Blade Runner 2049?\", {'entities': [(30, 47, 'MOVIE')]}),\n",
    "    (\"Which film did Tom Hanks act in?\", {'entities': [(13, 22, 'ACTOR')]}),\n",
    "    (\"What is the genre of Pulp Fiction?\", {'entities': [(19, 31, 'MOVIE')]}),\n",
    "    (\"Who wrote the screenplay for The Matrix?\", {'entities': [(32, 42, 'MOVIE')]}),\n",
    "]\n",
    "\n",
    "for text, _ in TEST_DATA:\n",
    "    doc = nlp1(text)\n",
    "    spacy.displacy.render(doc, style=\"ent\", jupyter=True)"
   ]
  }
 ],
 "metadata": {
  "kernelspec": {
   "display_name": "venv",
   "language": "python",
   "name": "python3"
  },
  "language_info": {
   "codemirror_mode": {
    "name": "ipython",
    "version": 3
   },
   "file_extension": ".py",
   "mimetype": "text/x-python",
   "name": "python",
   "nbconvert_exporter": "python",
   "pygments_lexer": "ipython3",
   "version": "3.10.12"
  }
 },
 "nbformat": 4,
 "nbformat_minor": 2
}
