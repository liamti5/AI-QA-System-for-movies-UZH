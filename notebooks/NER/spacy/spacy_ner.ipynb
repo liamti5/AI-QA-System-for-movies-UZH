{
 "cells": [
  {
   "cell_type": "code",
   "execution_count": 1,
   "metadata": {},
   "outputs": [],
   "source": [
    "import rdflib\n",
    "import re\n",
    "import spacy\n",
    "import random"
   ]
  },
  {
   "cell_type": "code",
   "execution_count": 2,
   "metadata": {},
   "outputs": [
    {
     "data": {
      "text/plain": [
       "<Graph identifier=Nf7c4638fcb3a40e09e13d8d8da367bb4 (<class 'rdflib.graph.Graph'>)>"
      ]
     },
     "execution_count": 2,
     "metadata": {},
     "output_type": "execute_result"
    }
   ],
   "source": [
    "graph = rdflib.Graph()\n",
    "graph.parse(\"../../../data/14_graph.nt\", format=\"turtle\")"
   ]
  },
  {
   "cell_type": "code",
   "execution_count": 101,
   "metadata": {},
   "outputs": [],
   "source": [
    "query = \"\"\"\n",
    "PREFIX ns1: <http://www.wikidata.org/prop/direct/>\n",
    "PREFIX rdfs: <http://www.w3.org/2000/01/rdf-schema#>\n",
    "\n",
    "SELECT ?filmName\n",
    "WHERE {\n",
    "  ?film ns1:P31 <http://www.wikidata.org/entity/Q11424> .\n",
    "  ?film rdfs:label ?filmName .\n",
    "  FILTER (LANG(?filmName) = \"en\")\n",
    "}\n",
    "LIMIT 10000\n",
    "\"\"\"\n",
    "  \n",
    "movie_names = [str(s) for s, in graph.query(query)]\n"
   ]
  },
  {
   "cell_type": "code",
   "execution_count": 102,
   "metadata": {},
   "outputs": [],
   "source": [
    "query = \"\"\"\n",
    "PREFIX ns1: <http://www.wikidata.org/prop/direct/>\n",
    "PREFIX rdfs: <http://www.w3.org/2000/01/rdf-schema#>\n",
    "\n",
    "SELECT ?actorName\n",
    "WHERE {\n",
    "  ?actor ns1:P106 <http://www.wikidata.org/entity/Q33999> .\n",
    "  ?actor rdfs:label ?actorName .\n",
    "}\n",
    "LIMIT 10000\n",
    "\"\"\"\n",
    "\n",
    "actor_names = [str(s) for s, in graph.query(query)]\n"
   ]
  },
  {
   "cell_type": "code",
   "execution_count": 111,
   "metadata": {},
   "outputs": [
    {
     "data": {
      "text/plain": [
       "2000"
      ]
     },
     "execution_count": 111,
     "metadata": {},
     "output_type": "execute_result"
    }
   ],
   "source": [
    "train_amount = int(0.8 * len(actor_names))\n",
    "movie_names_train, movie_names_dev = movie_names[:train_amount], movie_names[train_amount:]\n",
    "actor_names_train, actor_names_dev = actor_names[:train_amount], actor_names[train_amount:]\n",
    "\n",
    "len(movie_names_dev)"
   ]
  },
  {
   "cell_type": "code",
   "execution_count": 114,
   "metadata": {},
   "outputs": [
    {
     "name": "stdout",
     "output_type": "stream",
     "text": [
      "['Viktor Krištof', 'Oleg Kapanets', 'Alexander Geringas', 'Giovanni Korporaal', 'Jürgen Knieper', 'Mel Jarnson', 'Carmen Beato', 'Martina Cariddi', 'Atli Oskar Fjalarsson', 'Cyril Morin']\n",
      "['Jan Dara', 'Moondram Pirai', \"Buffalo Bill and the Indians, or Sitting Bull's History Lesson\", 'What We Wanted', 'Wanted: Dead or Alive', 'Linger', 'Eastern Condors', 'Amerika', 'Bukowski: Born into This', 'Fatal Move']\n"
     ]
    }
   ],
   "source": [
    "print(actor_names_train[:10])\n",
    "print(movie_names_train[:10])"
   ]
  },
  {
   "cell_type": "code",
   "execution_count": 87,
   "metadata": {},
   "outputs": [],
   "source": [
    "closed_questions_dev = [\n",
    "    \"Who is the director of <Inception>?\",\n",
    "    \"Who directed <Pulp Fiction>?\",\n",
    "    \"Tell me who directed <The Shape of Water>?\",\n",
    "    \"Who is the filmmaker of <Get Out>?\",\n",
    "    \"Which director took charge of <The Grand Budapest Hotel>?\",\n",
    "    \"Whos the person behind the direction of <Moonlight>?\",\n",
    "    \"Who helmed the direction of <Mad Max: Fury Road>?\",\n",
    "    \"Who is the screenwriter of <Eternal Sunshine of the Spotless Mind>?\",\n",
    "    \"Who wrote the screenplay for <Her>?\",\n",
    "    \"Which writer was responsible for <The Social Network>?\",\n",
    "    \"Whos credited as the screenwriter for <Juno>?\",\n",
    "    \"What is the MPAA film rating of <Joker>?\",\n",
    "    \"Whats the censorship rating of <The Dark Knight> by MPAA?\",\n",
    "    \"What is the genre of <Blade Runner 2049>?\",\n",
    "    \"Which genre does <Parasite> belong to?\",\n",
    "]\n",
    "\n",
    "recommendation_questions_dev = [\n",
    "    \"Recommend movies similar to <The Matrix>.\",\n",
    "    \"What are some films similar to <Interstellar>?\",\n",
    "    \"Can you suggest movies that are like <Arrival>?\",\n",
    "    \"If I enjoyed <Blade Runner 2049>, what other movies would you suggest?\",\n",
    "    \"Which films would you recommend if I loved <The Lord of the Rings>?\",\n",
    "    \"Given that I like <The Godfather>, <Goodfellas>, <Casino>, can you recommend some movies?\",\n",
    "    \"Based on my liking for <Fight Club>, <Se7en>, <Gone Girl>, suggest some films.\",\n",
    "    \"I enjoy watching <Amelie>, <La La Land>, and <The Grand Budapest Hotel>. What else would you recommend?\",\n",
    "    \"Recommend movies like <Alien>, <Prometheus>, and <The Martian>\",\n",
    "    \"Can you suggest films similar to <Saving Private Ryan>, <Platoon>, and <Full Metal Jacket>?\",\n",
    "    \"Based on my preference for <Forrest Gump>, <The Shawshank Redemption>, and <The Green Mile>, what else should I watch?\",\n",
    "    \"I like <The Silence of the Lambs>, so recommend similar movies\",\n",
    "    \"If I enjoyed <The Shining>, what other films would you suggest?\",\n",
    "    \"Movies similar to <Psycho> are what I'm looking for. Recommendations?\",\n",
    "]\n",
    "\n",
    "when_questions_dev = [\n",
    "    \"When was <Titanic> released?\",\n",
    "    \"On which date was <The Lion King> released?\",\n",
    "    \"Can you tell me when <Schindler's List> was released?\",\n",
    "    \"Which day did <Jurassic Park> hit the theaters?\",\n",
    "    \"What is the release date of <Avatar>?\",\n",
    "    \"Tell me the release date of <The Avengers>.\",\n",
    "    \"When exactly was <Harry Potter and the Philosopher's Stone> made available to the public?\",\n",
    "    \"Which year was <Star Wars: Episode IV - A New Hope> released?\",\n",
    "    \"In what year did <Back to the Future> come out?\",\n",
    "    \"When did <Indiana Jones and the Raiders of the Lost Ark> come out?\",\n",
    "    \"On which day was <The Empire Strikes Back> first shown?\",\n",
    "    \"When was the premiere of <The Godfather>?\",\n",
    "]\n",
    "\n",
    "multimedia_questions_dev = [\n",
    "    \"Show me a picture of <Leonardo DiCaprio>.\",\n",
    "    \"Can you display a photo of <Jennifer Lawrence>?\",\n",
    "    \"Id like to see a photograph of <Brad Pitt>.\",\n",
    "    \"Provide me with a picture of <Meryl Streep>.\",\n",
    "    \"What does <Denzel Washington> look like?\",\n",
    "    \"Can you describe <Angelina Jolie's> appearance?\",\n",
    "    \"Tell me about <Tom Hanks's> physical appearance.\",\n",
    "    \"Let me know what <Charlize Theron> looks like.\",\n",
    "    \"Give me an idea of <Johnny Depps> looks.\",\n",
    "    \"Provide a description or image of <Natalie Portman>.\",\n",
    "]"
   ]
  },
  {
   "cell_type": "code",
   "execution_count": 100,
   "metadata": {},
   "outputs": [],
   "source": [
    "movie_questions = closed_questions_dev + recommendation_questions_dev + when_questions_dev "
   ]
  },
  {
   "cell_type": "code",
   "execution_count": 119,
   "metadata": {},
   "outputs": [
    {
     "name": "stdout",
     "output_type": "stream",
     "text": [
      "8000\n",
      "2000\n"
     ]
    }
   ],
   "source": [
    "def replace_quotes(type_question: list, type_entity: list):\n",
    "    questions = []\n",
    "    for item in type_entity:\n",
    "        random_question = type_question[random.randint(0, len(type_question) - 1)]\n",
    "        movies_to_replace = re.findall(r\"<[^<]*>\", random_question)\n",
    "        if len(movies_to_replace) > 1:\n",
    "            for i, movie in enumerate(movies_to_replace):\n",
    "                if i == 0:\n",
    "                    q = random_question.replace(movie, f\"<{item}>\")\n",
    "                else:\n",
    "                    q = q.replace(movie, f\"<{type_entity[random.randint(0, len(type_entity) - 1)]}>\")\n",
    "            questions.append(q)\n",
    "        else:\n",
    "            questions.append(re.sub(r\"<[^<]*<\", f\"<{item}>\", random_question))\n",
    "    return questions\n",
    "\n",
    "questions_multimedia_train = replace_quotes(multimedia_questions_dev, movie_names_train)\n",
    "questions_movies_train = replace_quotes(movie_questions, movie_names_train)\n",
    "questions_multimedia_dev = replace_quotes(multimedia_questions_dev, movie_names_dev)\n",
    "questions_movies_dev = replace_quotes(movie_questions, movie_names_dev)\n",
    "print(len(questions_multimedia_train))\n",
    "print(len(questions_multimedia_dev))"
   ]
  },
  {
   "cell_type": "code",
   "execution_count": 120,
   "metadata": {},
   "outputs": [],
   "source": [
    "def find(s, ch1=\"<\", ch2=\">\"):\n",
    "    start_indices = [i for i, ltr in enumerate(s) if ltr == ch1]\n",
    "    end_indices = [i for i, ltr in enumerate(s) if ltr == ch2]\n",
    "    return start_indices, end_indices\n",
    "\n",
    "\n",
    "def to_spacy(questions, entity):\n",
    "    training_data = []\n",
    "    for q in questions:\n",
    "        entities = []\n",
    "        start_indices, end_indices = find(q)\n",
    "        if len(start_indices) > 1:\n",
    "            for i in range(len(start_indices)):\n",
    "                # Calculate the adjustment for each entity\n",
    "                start_adjustment = start_indices[i] - (2 * i)  # Each entity has 2 symbols < and >\n",
    "                end_adjustment = end_indices[i] - (2 * (i + 1)) + 1  # Additional -1 for the closing '>'\n",
    "                entities.append((start_adjustment, end_adjustment, entity))\n",
    "        \n",
    "        else:\n",
    "            start_adjustment = start_indices[0]\n",
    "            end_adjustment = end_indices[0] - 1\n",
    "            entities.append((start_adjustment, end_adjustment, entity))\n",
    "\n",
    "        q = q.replace(\"<\", \"\").replace(\">\", \"\")\n",
    "        training_data.append((q, {\"entities\": entities}))\n",
    "    \n",
    "    return training_data\n",
    "\n",
    "training_data = to_spacy(questions_movies_train, \"MOVIE\")\n",
    "training_data += to_spacy(questions_multimedia_train, \"ACTOR\")\n",
    "\n",
    "dev_data = to_spacy(questions_movies_dev, \"MOVIE\")\n",
    "dev_data += to_spacy(questions_multimedia_dev, \"ACTOR\")\n",
    "\n",
    "\n"
   ]
  },
  {
   "cell_type": "code",
   "execution_count": 125,
   "metadata": {},
   "outputs": [
    {
     "name": "stdout",
     "output_type": "stream",
     "text": [
      "[('Whats the censorship rating of The Dark Knight by MPAA?', {'entities': [(31, 46, 'MOVIE')]}), ('Given that I like Moondram Pirai, The Young Offenders, Zero Tolerance, can you recommend some movies?', {'entities': [(18, 32, 'MOVIE'), (34, 53, 'MOVIE'), (55, 69, 'MOVIE')]}), ('When was Titanic released?', {'entities': [(9, 16, 'MOVIE')]}), ('Based on my preference for What We Wanted, Vengo, and Exodus, what else should I watch?', {'entities': [(27, 41, 'MOVIE'), (43, 48, 'MOVIE'), (54, 60, 'MOVIE')]}), ('What is the release date of Avatar?', {'entities': [(28, 34, 'MOVIE')]}), ('When did Indiana Jones and the Raiders of the Lost Ark come out?', {'entities': [(9, 54, 'MOVIE')]}), (\"Movies similar to Psycho are what I'm looking for. Recommendations?\", {'entities': [(18, 24, 'MOVIE')]}), ('Who directed Pulp Fiction?', {'entities': [(13, 25, 'MOVIE')]}), ('Whos the person behind the direction of Moonlight?', {'entities': [(40, 49, 'MOVIE')]}), ('If I enjoyed Blade Runner 2049, what other movies would you suggest?', {'entities': [(13, 30, 'MOVIE')]})]\n",
      "16000\n",
      "[('Tell me the release date of The Avengers.', {'entities': [(28, 40, 'MOVIE')]}), ('Who wrote the screenplay for Her?', {'entities': [(29, 32, 'MOVIE')]}), ('Who helmed the direction of Mad Max: Fury Road?', {'entities': [(28, 46, 'MOVIE')]}), ('Who is the filmmaker of Get Out?', {'entities': [(24, 31, 'MOVIE')]}), ('On which date was The Lion King released?', {'entities': [(18, 31, 'MOVIE')]}), ('Whos the person behind the direction of Moonlight?', {'entities': [(40, 49, 'MOVIE')]}), ('Whos the person behind the direction of Moonlight?', {'entities': [(40, 49, 'MOVIE')]}), ('Tell me the release date of The Avengers.', {'entities': [(28, 40, 'MOVIE')]}), ('When did Indiana Jones and the Raiders of the Lost Ark come out?', {'entities': [(9, 54, 'MOVIE')]}), ('Which genre does Parasite belong to?', {'entities': [(17, 25, 'MOVIE')]})]\n",
      "4000\n"
     ]
    }
   ],
   "source": [
    "print(training_data[:10])\n",
    "print(len(training_data))\n",
    "print(dev_data[:10])\n",
    "print(len(dev_data))"
   ]
  },
  {
   "cell_type": "code",
   "execution_count": 128,
   "metadata": {},
   "outputs": [
    {
     "ename": "OSError",
     "evalue": "[E050] Can't find model 'en_core_web_trf'. It doesn't seem to be a Python package or a valid path to a data directory.",
     "output_type": "error",
     "traceback": [
      "\u001b[0;31m---------------------------------------------------------------------------\u001b[0m",
      "\u001b[0;31mOSError\u001b[0m                                   Traceback (most recent call last)",
      "\u001b[1;32m/home/liamt/Uni/Master/HS23/ATAI/speakeasy-python-client-library/speakeasy-python-client-library/notebooks/NER/spacy/spacy_ner.ipynb Cell 12\u001b[0m line \u001b[0;36m7\n\u001b[1;32m      <a href='vscode-notebook-cell://wsl%2Bubuntu/home/liamt/Uni/Master/HS23/ATAI/speakeasy-python-client-library/speakeasy-python-client-library/notebooks/NER/spacy/spacy_ner.ipynb#X20sdnNjb2RlLXJlbW90ZQ%3D%3D?line=2'>3</a>\u001b[0m \u001b[39mfrom\u001b[39;00m \u001b[39mtqdm\u001b[39;00m \u001b[39mimport\u001b[39;00m tqdm\n\u001b[1;32m      <a href='vscode-notebook-cell://wsl%2Bubuntu/home/liamt/Uni/Master/HS23/ATAI/speakeasy-python-client-library/speakeasy-python-client-library/notebooks/NER/spacy/spacy_ner.ipynb#X20sdnNjb2RlLXJlbW90ZQ%3D%3D?line=4'>5</a>\u001b[0m \u001b[39m# We will use the previously formatted TRAIN_DATA to create the .spacy file\u001b[39;00m\n\u001b[1;32m      <a href='vscode-notebook-cell://wsl%2Bubuntu/home/liamt/Uni/Master/HS23/ATAI/speakeasy-python-client-library/speakeasy-python-client-library/notebooks/NER/spacy/spacy_ner.ipynb#X20sdnNjb2RlLXJlbW90ZQ%3D%3D?line=5'>6</a>\u001b[0m \u001b[39m# The nlp object is created as a blank English model\u001b[39;00m\n\u001b[0;32m----> <a href='vscode-notebook-cell://wsl%2Bubuntu/home/liamt/Uni/Master/HS23/ATAI/speakeasy-python-client-library/speakeasy-python-client-library/notebooks/NER/spacy/spacy_ner.ipynb#X20sdnNjb2RlLXJlbW90ZQ%3D%3D?line=6'>7</a>\u001b[0m nlp \u001b[39m=\u001b[39m spacy\u001b[39m.\u001b[39;49mload(\u001b[39m\"\u001b[39;49m\u001b[39men_core_web_trf\u001b[39;49m\u001b[39m\"\u001b[39;49m)\n\u001b[1;32m      <a href='vscode-notebook-cell://wsl%2Bubuntu/home/liamt/Uni/Master/HS23/ATAI/speakeasy-python-client-library/speakeasy-python-client-library/notebooks/NER/spacy/spacy_ner.ipynb#X20sdnNjb2RlLXJlbW90ZQ%3D%3D?line=8'>9</a>\u001b[0m \u001b[39m# The DocBin is used to store the documents\u001b[39;00m\n\u001b[1;32m     <a href='vscode-notebook-cell://wsl%2Bubuntu/home/liamt/Uni/Master/HS23/ATAI/speakeasy-python-client-library/speakeasy-python-client-library/notebooks/NER/spacy/spacy_ner.ipynb#X20sdnNjb2RlLXJlbW90ZQ%3D%3D?line=9'>10</a>\u001b[0m db \u001b[39m=\u001b[39m DocBin()\n",
      "File \u001b[0;32m~/Uni/Master/HS23/ATAI/speakeasy-python-client-library/speakeasy-python-client-library/venv/lib/python3.10/site-packages/spacy/__init__.py:51\u001b[0m, in \u001b[0;36mload\u001b[0;34m(name, vocab, disable, enable, exclude, config)\u001b[0m\n\u001b[1;32m     27\u001b[0m \u001b[39mdef\u001b[39;00m \u001b[39mload\u001b[39m(\n\u001b[1;32m     28\u001b[0m     name: Union[\u001b[39mstr\u001b[39m, Path],\n\u001b[1;32m     29\u001b[0m     \u001b[39m*\u001b[39m,\n\u001b[0;32m   (...)\u001b[0m\n\u001b[1;32m     34\u001b[0m     config: Union[Dict[\u001b[39mstr\u001b[39m, Any], Config] \u001b[39m=\u001b[39m util\u001b[39m.\u001b[39mSimpleFrozenDict(),\n\u001b[1;32m     35\u001b[0m ) \u001b[39m-\u001b[39m\u001b[39m>\u001b[39m Language:\n\u001b[1;32m     36\u001b[0m \u001b[39m    \u001b[39m\u001b[39m\"\"\"Load a spaCy model from an installed package or a local path.\u001b[39;00m\n\u001b[1;32m     37\u001b[0m \n\u001b[1;32m     38\u001b[0m \u001b[39m    name (str): Package name or model path.\u001b[39;00m\n\u001b[0;32m   (...)\u001b[0m\n\u001b[1;32m     49\u001b[0m \u001b[39m    RETURNS (Language): The loaded nlp object.\u001b[39;00m\n\u001b[1;32m     50\u001b[0m \u001b[39m    \"\"\"\u001b[39;00m\n\u001b[0;32m---> 51\u001b[0m     \u001b[39mreturn\u001b[39;00m util\u001b[39m.\u001b[39;49mload_model(\n\u001b[1;32m     52\u001b[0m         name,\n\u001b[1;32m     53\u001b[0m         vocab\u001b[39m=\u001b[39;49mvocab,\n\u001b[1;32m     54\u001b[0m         disable\u001b[39m=\u001b[39;49mdisable,\n\u001b[1;32m     55\u001b[0m         enable\u001b[39m=\u001b[39;49menable,\n\u001b[1;32m     56\u001b[0m         exclude\u001b[39m=\u001b[39;49mexclude,\n\u001b[1;32m     57\u001b[0m         config\u001b[39m=\u001b[39;49mconfig,\n\u001b[1;32m     58\u001b[0m     )\n",
      "File \u001b[0;32m~/Uni/Master/HS23/ATAI/speakeasy-python-client-library/speakeasy-python-client-library/venv/lib/python3.10/site-packages/spacy/util.py:472\u001b[0m, in \u001b[0;36mload_model\u001b[0;34m(name, vocab, disable, enable, exclude, config)\u001b[0m\n\u001b[1;32m    470\u001b[0m \u001b[39mif\u001b[39;00m name \u001b[39min\u001b[39;00m OLD_MODEL_SHORTCUTS:\n\u001b[1;32m    471\u001b[0m     \u001b[39mraise\u001b[39;00m \u001b[39mIOError\u001b[39;00m(Errors\u001b[39m.\u001b[39mE941\u001b[39m.\u001b[39mformat(name\u001b[39m=\u001b[39mname, full\u001b[39m=\u001b[39mOLD_MODEL_SHORTCUTS[name]))  \u001b[39m# type: ignore[index]\u001b[39;00m\n\u001b[0;32m--> 472\u001b[0m \u001b[39mraise\u001b[39;00m \u001b[39mIOError\u001b[39;00m(Errors\u001b[39m.\u001b[39mE050\u001b[39m.\u001b[39mformat(name\u001b[39m=\u001b[39mname))\n",
      "\u001b[0;31mOSError\u001b[0m: [E050] Can't find model 'en_core_web_trf'. It doesn't seem to be a Python package or a valid path to a data directory."
     ]
    }
   ],
   "source": [
    "import spacy\n",
    "from spacy.tokens import DocBin\n",
    "from tqdm import tqdm\n",
    "\n",
    "# We will use the previously formatted TRAIN_DATA to create the .spacy file\n",
    "# The nlp object is created as a blank English model\n",
    "nlp = spacy.load(\"en_core_web_sm\")\n",
    "\n",
    "# The DocBin is used to store the documents\n",
    "db = DocBin()\n",
    "\n",
    "def to_spacy(data, name):\n",
    "    x = 0\n",
    "    for text, annotations in data:\n",
    "        doc = nlp.make_doc(text)\n",
    "        ents = []\n",
    "        for start, end, label in annotations[\"entities\"]:\n",
    "            span = doc.char_span(start, end, label=label)\n",
    "            print(span)\n",
    "            if span is not None:\n",
    "                ents.append(span)\n",
    "            else:\n",
    "                print(text)\n",
    "                x += 1\n",
    "\n",
    "        doc.ents = ents\n",
    "        db.add(doc)\n",
    "\n",
    "    print(x)\n",
    "    spacy_file_path = f\"./{name}.spacy\"\n",
    "    db.to_disk(spacy_file_path)\n",
    "    return spacy_file_path\n",
    "\n",
    "to_spacy(training_data, \"train_small\")\n",
    "to_spacy(dev_data, \"dev_small\")"
   ]
  },
  {
   "cell_type": "code",
   "execution_count": 2,
   "metadata": {},
   "outputs": [
    {
     "name": "stdout",
     "output_type": "stream",
     "text": [
      "Who is the director of Good Will Hunting?\n"
     ]
    }
   ],
   "source": [
    "import spacy\n",
    "\n",
    "nlp1 = spacy.load(\"../../../models/NER_model-best/\")  # load the best model\n",
    "# input sample text\n",
    "doc = nlp1(\"Who is the director of Good Will Hunting?\")\n",
    "\n"
   ]
  },
  {
   "cell_type": "code",
   "execution_count": 15,
   "metadata": {},
   "outputs": [
    {
     "name": "stdout",
     "output_type": "stream",
     "text": [
      "Good Will Hunting MOVIE\n"
     ]
    }
   ],
   "source": [
    "for ent in doc.ents:\n",
    "    print(ent.text, ent.label_)"
   ]
  },
  {
   "cell_type": "code",
   "execution_count": 132,
   "metadata": {},
   "outputs": [
    {
     "data": {
      "text/html": [
       "<span class=\"tex2jax_ignore\"><div class=\"entities\" style=\"line-height: 2.5; direction: ltr\">Who starred in \n",
       "<mark class=\"entity\" style=\"background: #ddd; padding: 0.45em 0.6em; margin: 0 0.25em; line-height: 1; border-radius: 0.35em;\">\n",
       "    Titanic\n",
       "    <span style=\"font-size: 0.8em; font-weight: bold; line-height: 1; border-radius: 0.35em; vertical-align: middle; margin-left: 0.5rem\">MOVIE</span>\n",
       "</mark>\n",
       "?</div></span>"
      ],
      "text/plain": [
       "<IPython.core.display.HTML object>"
      ]
     },
     "metadata": {},
     "output_type": "display_data"
    },
    {
     "data": {
      "text/html": [
       "<span class=\"tex2jax_ignore\"><div class=\"entities\" style=\"line-height: 2.5; direction: ltr\">What film did \n",
       "<mark class=\"entity\" style=\"background: #ddd; padding: 0.45em 0.6em; margin: 0 0.25em; line-height: 1; border-radius: 0.35em;\">\n",
       "    Leonardo DiCaprio\n",
       "    <span style=\"font-size: 0.8em; font-weight: bold; line-height: 1; border-radius: 0.35em; vertical-align: middle; margin-left: 0.5rem\">ACTOR</span>\n",
       "</mark>\n",
       " act in?</div></span>"
      ],
      "text/plain": [
       "<IPython.core.display.HTML object>"
      ]
     },
     "metadata": {},
     "output_type": "display_data"
    },
    {
     "data": {
      "text/html": [
       "<span class=\"tex2jax_ignore\"><div class=\"entities\" style=\"line-height: 2.5; direction: ltr\">Can you name the director of \n",
       "<mark class=\"entity\" style=\"background: #ddd; padding: 0.45em 0.6em; margin: 0 0.25em; line-height: 1; border-radius: 0.35em;\">\n",
       "    The Shawshank Redemption\n",
       "    <span style=\"font-size: 0.8em; font-weight: bold; line-height: 1; border-radius: 0.35em; vertical-align: middle; margin-left: 0.5rem\">MOVIE</span>\n",
       "</mark>\n",
       "?</div></span>"
      ],
      "text/plain": [
       "<IPython.core.display.HTML object>"
      ]
     },
     "metadata": {},
     "output_type": "display_data"
    },
    {
     "data": {
      "text/html": [
       "<span class=\"tex2jax_ignore\"><div class=\"entities\" style=\"line-height: 2.5; direction: ltr\">Which movie featured \n",
       "<mark class=\"entity\" style=\"background: #ddd; padding: 0.45em 0.6em; margin: 0 0.25em; line-height: 1; border-radius: 0.35em;\">\n",
       "    Brad Pitt\n",
       "    <span style=\"font-size: 0.8em; font-weight: bold; line-height: 1; border-radius: 0.35em; vertical-align: middle; margin-left: 0.5rem\">ACTOR</span>\n",
       "</mark>\n",
       "?</div></span>"
      ],
      "text/plain": [
       "<IPython.core.display.HTML object>"
      ]
     },
     "metadata": {},
     "output_type": "display_data"
    },
    {
     "data": {
      "text/html": [
       "<span class=\"tex2jax_ignore\"><div class=\"entities\" style=\"line-height: 2.5; direction: ltr\">Who directed \n",
       "<mark class=\"entity\" style=\"background: #ddd; padding: 0.45em 0.6em; margin: 0 0.25em; line-height: 1; border-radius: 0.35em;\">\n",
       "    Avatar\n",
       "    <span style=\"font-size: 0.8em; font-weight: bold; line-height: 1; border-radius: 0.35em; vertical-align: middle; margin-left: 0.5rem\">MOVIE</span>\n",
       "</mark>\n",
       "?</div></span>"
      ],
      "text/plain": [
       "<IPython.core.display.HTML object>"
      ]
     },
     "metadata": {},
     "output_type": "display_data"
    },
    {
     "data": {
      "text/html": [
       "<span class=\"tex2jax_ignore\"><div class=\"entities\" style=\"line-height: 2.5; direction: ltr\">Who played the lead in \n",
       "<mark class=\"entity\" style=\"background: #ddd; padding: 0.45em 0.6em; margin: 0 0.25em; line-height: 1; border-radius: 0.35em;\">\n",
       "    Inception\n",
       "    <span style=\"font-size: 0.8em; font-weight: bold; line-height: 1; border-radius: 0.35em; vertical-align: middle; margin-left: 0.5rem\">MOVIE</span>\n",
       "</mark>\n",
       "?</div></span>"
      ],
      "text/plain": [
       "<IPython.core.display.HTML object>"
      ]
     },
     "metadata": {},
     "output_type": "display_data"
    },
    {
     "data": {
      "text/html": [
       "<span class=\"tex2jax_ignore\"><div class=\"entities\" style=\"line-height: 2.5; direction: ltr\">What&lt;s the latest film by \n",
       "<mark class=\"entity\" style=\"background: #ddd; padding: 0.45em 0.6em; margin: 0 0.25em; line-height: 1; border-radius: 0.35em;\">\n",
       "    Quentin Tarantino\n",
       "    <span style=\"font-size: 0.8em; font-weight: bold; line-height: 1; border-radius: 0.35em; vertical-align: middle; margin-left: 0.5rem\">ACTOR</span>\n",
       "</mark>\n",
       "?</div></span>"
      ],
      "text/plain": [
       "<IPython.core.display.HTML object>"
      ]
     },
     "metadata": {},
     "output_type": "display_data"
    },
    {
     "data": {
      "text/html": [
       "<span class=\"tex2jax_ignore\"><div class=\"entities\" style=\"line-height: 2.5; direction: ltr\">Name a movie starring \n",
       "<mark class=\"entity\" style=\"background: #ddd; padding: 0.45em 0.6em; margin: 0 0.25em; line-height: 1; border-radius: 0.35em;\">\n",
       "    Natalie Portman\n",
       "    <span style=\"font-size: 0.8em; font-weight: bold; line-height: 1; border-radius: 0.35em; vertical-align: middle; margin-left: 0.5rem\">ACTOR</span>\n",
       "</mark>\n",
       ".</div></span>"
      ],
      "text/plain": [
       "<IPython.core.display.HTML object>"
      ]
     },
     "metadata": {},
     "output_type": "display_data"
    },
    {
     "data": {
      "text/html": [
       "<span class=\"tex2jax_ignore\"><div class=\"entities\" style=\"line-height: 2.5; direction: ltr\">Who was the lead actor in \n",
       "<mark class=\"entity\" style=\"background: #ddd; padding: 0.45em 0.6em; margin: 0 0.25em; line-height: 1; border-radius: 0.35em;\">\n",
       "    Blade Runner 2049\n",
       "    <span style=\"font-size: 0.8em; font-weight: bold; line-height: 1; border-radius: 0.35em; vertical-align: middle; margin-left: 0.5rem\">MOVIE</span>\n",
       "</mark>\n",
       "?</div></span>"
      ],
      "text/plain": [
       "<IPython.core.display.HTML object>"
      ]
     },
     "metadata": {},
     "output_type": "display_data"
    },
    {
     "data": {
      "text/html": [
       "<span class=\"tex2jax_ignore\"><div class=\"entities\" style=\"line-height: 2.5; direction: ltr\">Which film did \n",
       "<mark class=\"entity\" style=\"background: #ddd; padding: 0.45em 0.6em; margin: 0 0.25em; line-height: 1; border-radius: 0.35em;\">\n",
       "    Tom Hanks\n",
       "    <span style=\"font-size: 0.8em; font-weight: bold; line-height: 1; border-radius: 0.35em; vertical-align: middle; margin-left: 0.5rem\">ACTOR</span>\n",
       "</mark>\n",
       " act in?</div></span>"
      ],
      "text/plain": [
       "<IPython.core.display.HTML object>"
      ]
     },
     "metadata": {},
     "output_type": "display_data"
    },
    {
     "data": {
      "text/html": [
       "<span class=\"tex2jax_ignore\"><div class=\"entities\" style=\"line-height: 2.5; direction: ltr\">What is the genre of \n",
       "<mark class=\"entity\" style=\"background: #ddd; padding: 0.45em 0.6em; margin: 0 0.25em; line-height: 1; border-radius: 0.35em;\">\n",
       "    Pulp Fiction\n",
       "    <span style=\"font-size: 0.8em; font-weight: bold; line-height: 1; border-radius: 0.35em; vertical-align: middle; margin-left: 0.5rem\">MOVIE</span>\n",
       "</mark>\n",
       "?</div></span>"
      ],
      "text/plain": [
       "<IPython.core.display.HTML object>"
      ]
     },
     "metadata": {},
     "output_type": "display_data"
    },
    {
     "data": {
      "text/html": [
       "<span class=\"tex2jax_ignore\"><div class=\"entities\" style=\"line-height: 2.5; direction: ltr\">Who wrote the screenplay for \n",
       "<mark class=\"entity\" style=\"background: #ddd; padding: 0.45em 0.6em; margin: 0 0.25em; line-height: 1; border-radius: 0.35em;\">\n",
       "    The Matrix\n",
       "    <span style=\"font-size: 0.8em; font-weight: bold; line-height: 1; border-radius: 0.35em; vertical-align: middle; margin-left: 0.5rem\">MOVIE</span>\n",
       "</mark>\n",
       "?</div></span>"
      ],
      "text/plain": [
       "<IPython.core.display.HTML object>"
      ]
     },
     "metadata": {},
     "output_type": "display_data"
    },
    {
     "ename": "",
     "evalue": "",
     "output_type": "error",
     "traceback": [
      "\u001b[1;31mThe Kernel crashed while executing code in the the current cell or a previous cell. Please review the code in the cell(s) to identify a possible cause of the failure. Click <a href='https://aka.ms/vscodeJupyterKernelCrash'>here</a> for more info. View Jupyter <a href='command:jupyter.viewOutput'>log</a> for further details."
     ]
    }
   ],
   "source": [
    "TEST_DATA = [\n",
    "    (\"Who starred in Titanic?\"),\n",
    "    (\"What film did Leonardo DiCaprio act in?\"),\n",
    "    (\"Can you name the director of The Shawshank Redemption?\"),\n",
    "    (\"Which movie featured Brad Pitt?\"),\n",
    "    (\"Who directed Avatar?\"),\n",
    "    (\"Who played the lead in Inception?\"),\n",
    "    (\"What<s the latest film by Quentin Tarantino?\"),\n",
    "    (\"Name a movie starring Natalie Portman.\"),\n",
    "    (\"Who was the lead actor in Blade Runner 2049?\"),\n",
    "    (\"Which film did Tom Hanks act in?\"),\n",
    "    (\"What is the genre of Pulp Fiction?\"),\n",
    "    (\"Who wrote the screenplay for The Matrix?\"),\n",
    "]\n",
    "\n",
    "for text in TEST_DATA:\n",
    "    doc = nlp1(text)\n",
    "    spacy.displacy.render(doc, style=\"ent\", jupyter=True)"
   ]
  }
 ],
 "metadata": {
  "kernelspec": {
   "display_name": "venv",
   "language": "python",
   "name": "python3"
  },
  "language_info": {
   "codemirror_mode": {
    "name": "ipython",
    "version": 3
   },
   "file_extension": ".py",
   "mimetype": "text/x-python",
   "name": "python",
   "nbconvert_exporter": "python",
   "pygments_lexer": "ipython3",
   "version": "3.10.12"
  }
 },
 "nbformat": 4,
 "nbformat_minor": 2
}
