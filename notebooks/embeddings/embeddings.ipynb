{
 "cells": [
  {
   "cell_type": "code",
   "execution_count": 1,
   "metadata": {},
   "outputs": [],
   "source": [
    "import rdflib\n",
    "import pandas as pd\n",
    "import numpy as np\n",
    "import csv\n",
    "import sklearn.metrics\n"
   ]
  },
  {
   "cell_type": "code",
   "execution_count": 2,
   "metadata": {},
   "outputs": [],
   "source": [
    "WD = rdflib.Namespace('http://www.wikidata.org/entity/')\n",
    "WDT = rdflib.Namespace('http://www.wikidata.org/prop/direct/')\n",
    "DDIS = rdflib.Namespace('http://ddis.ch/atai/')\n",
    "RDFS = rdflib.namespace.RDFS\n",
    "SCHEMA = rdflib.Namespace('http://schema.org/')"
   ]
  },
  {
   "cell_type": "code",
   "execution_count": 3,
   "metadata": {},
   "outputs": [
    {
     "data": {
      "text/plain": [
       "rdflib.term.URIRef('http://www.wikidata.org/prop/direct/P58')"
      ]
     },
     "execution_count": 3,
     "metadata": {},
     "output_type": "execute_result"
    }
   ],
   "source": [
    "WDT[\"P58\"]"
   ]
  },
  {
   "cell_type": "code",
   "execution_count": 5,
   "metadata": {},
   "outputs": [],
   "source": [
    "graph = rdflib.Graph().parse('../../data/14_graph.nt', format='turtle')"
   ]
  },
  {
   "cell_type": "code",
   "execution_count": 10,
   "metadata": {},
   "outputs": [],
   "source": [
    "entity_emb = np.load('../../data/entity_embeds.npy')\n",
    "relation_emb = np.load('../../data/relation_embeds.npy')\n",
    "\n",
    "with open('../../data/entity_ids.del', 'r') as ifile:\n",
    "    ent2id = {rdflib.term.URIRef(ent): int(idx) for idx, ent in csv.reader(ifile, delimiter='\\t')}\n",
    "    id2ent = {v: k for k, v in ent2id.items()}\n",
    "with open('../../data/relation_ids.del', 'r') as ifile:\n",
    "    rel2id = {rdflib.term.URIRef(rel): int(idx) for idx, rel in csv.reader(ifile, delimiter='\\t')}\n",
    "    id2rel = {v: k for k, v in rel2id.items()}"
   ]
  },
  {
   "cell_type": "code",
   "execution_count": 11,
   "metadata": {},
   "outputs": [],
   "source": [
    "ent2lbl = {ent: str(lbl) for ent, lbl in graph.subject_objects(RDFS.label)}\n",
    "lbl2ent = {lbl: ent for ent, lbl in ent2lbl.items()}"
   ]
  },
  {
   "cell_type": "code",
   "execution_count": 12,
   "metadata": {},
   "outputs": [
    {
     "data": {
      "text/plain": [
       "{'Q329737': 'butcher'}"
      ]
     },
     "execution_count": 12,
     "metadata": {},
     "output_type": "execute_result"
    }
   ],
   "source": [
    "# let's see what our graph thinks the occupation of Jean Van Hamme is\n",
    "professions = set(graph.query('''\n",
    "    prefix wdt: <http://www.wikidata.org/prop/direct/>\n",
    "    prefix wd: <http://www.wikidata.org/entity/>\n",
    "    \n",
    "    SELECT ?obj ?lbl WHERE {\n",
    "        ?ent rdfs:label \"Jean Van Hamme\"@en .\n",
    "        ?ent wdt:P106 ?obj .\n",
    "        ?obj rdfs:label ?lbl .\n",
    "    }\n",
    "    '''))\n",
    "{ent[len(WD):]: str(lbl) for ent, lbl in professions}"
   ]
  },
  {
   "cell_type": "code",
   "execution_count": 13,
   "metadata": {},
   "outputs": [],
   "source": [
    "# \"Jean Van Hamme\" entity\n",
    "head = entity_emb[ent2id[WD.Q428160]]\n",
    "# \"occupation\" relation\n",
    "pred = relation_emb[rel2id[WDT.P106]]\n",
    "# add vectors according to TransE scoring function.\n",
    "lhs = head + pred\n",
    "# compute distance to *any* entity\n",
    "dist = sklearn.metrics.pairwise_distances(lhs.reshape(1, -1), entity_emb).reshape(-1)\n",
    "# find most plausible entities\n",
    "most_likely = dist.argsort()\n",
    "# compute ranks of entities\n",
    "ranks = dist.argsort().argsort()"
   ]
  },
  {
   "cell_type": "code",
   "execution_count": 14,
   "metadata": {},
   "outputs": [
    {
     "data": {
      "text/html": [
       "<div>\n",
       "<style scoped>\n",
       "    .dataframe tbody tr th:only-of-type {\n",
       "        vertical-align: middle;\n",
       "    }\n",
       "\n",
       "    .dataframe tbody tr th {\n",
       "        vertical-align: top;\n",
       "    }\n",
       "\n",
       "    .dataframe thead th {\n",
       "        text-align: right;\n",
       "    }\n",
       "</style>\n",
       "<table border=\"1\" class=\"dataframe\">\n",
       "  <thead>\n",
       "    <tr style=\"text-align: right;\">\n",
       "      <th></th>\n",
       "      <th>Entity</th>\n",
       "      <th>Label</th>\n",
       "      <th>Score</th>\n",
       "      <th>Rank</th>\n",
       "    </tr>\n",
       "  </thead>\n",
       "  <tbody>\n",
       "    <tr>\n",
       "      <th>0</th>\n",
       "      <td>Q36180</td>\n",
       "      <td>writer</td>\n",
       "      <td>3223.151367</td>\n",
       "      <td>1</td>\n",
       "    </tr>\n",
       "    <tr>\n",
       "      <th>1</th>\n",
       "      <td>Q33999</td>\n",
       "      <td>actor</td>\n",
       "      <td>3382.129883</td>\n",
       "      <td>2</td>\n",
       "    </tr>\n",
       "    <tr>\n",
       "      <th>2</th>\n",
       "      <td>Q6625963</td>\n",
       "      <td>novelist</td>\n",
       "      <td>3397.582520</td>\n",
       "      <td>3</td>\n",
       "    </tr>\n",
       "    <tr>\n",
       "      <th>3</th>\n",
       "      <td>Q1930187</td>\n",
       "      <td>journalist</td>\n",
       "      <td>3492.735352</td>\n",
       "      <td>4</td>\n",
       "    </tr>\n",
       "    <tr>\n",
       "      <th>4</th>\n",
       "      <td>Q4610556</td>\n",
       "      <td>model</td>\n",
       "      <td>3549.961182</td>\n",
       "      <td>5</td>\n",
       "    </tr>\n",
       "    <tr>\n",
       "      <th>5</th>\n",
       "      <td>Q639669</td>\n",
       "      <td>musician</td>\n",
       "      <td>3616.397949</td>\n",
       "      <td>6</td>\n",
       "    </tr>\n",
       "    <tr>\n",
       "      <th>6</th>\n",
       "      <td>Q67311526</td>\n",
       "      <td>Obalky knih.cz</td>\n",
       "      <td>3628.230957</td>\n",
       "      <td>7</td>\n",
       "    </tr>\n",
       "    <tr>\n",
       "      <th>7</th>\n",
       "      <td>Q150</td>\n",
       "      <td>French</td>\n",
       "      <td>3667.630615</td>\n",
       "      <td>8</td>\n",
       "    </tr>\n",
       "    <tr>\n",
       "      <th>8</th>\n",
       "      <td>Q1028181</td>\n",
       "      <td>painter</td>\n",
       "      <td>3694.667480</td>\n",
       "      <td>9</td>\n",
       "    </tr>\n",
       "    <tr>\n",
       "      <th>9</th>\n",
       "      <td>Q245068</td>\n",
       "      <td>comedian</td>\n",
       "      <td>3744.303955</td>\n",
       "      <td>10</td>\n",
       "    </tr>\n",
       "  </tbody>\n",
       "</table>\n",
       "</div>"
      ],
      "text/plain": [
       "      Entity           Label        Score  Rank\n",
       "0     Q36180          writer  3223.151367     1\n",
       "1     Q33999           actor  3382.129883     2\n",
       "2   Q6625963        novelist  3397.582520     3\n",
       "3   Q1930187      journalist  3492.735352     4\n",
       "4   Q4610556           model  3549.961182     5\n",
       "5    Q639669        musician  3616.397949     6\n",
       "6  Q67311526  Obalky knih.cz  3628.230957     7\n",
       "7       Q150          French  3667.630615     8\n",
       "8   Q1028181         painter  3694.667480     9\n",
       "9    Q245068        comedian  3744.303955    10"
      ]
     },
     "execution_count": 14,
     "metadata": {},
     "output_type": "execute_result"
    }
   ],
   "source": [
    "# what would be more plausible occupations?\n",
    "pd.DataFrame([\n",
    "    (id2ent[idx][len(WD):], ent2lbl[id2ent[idx]], dist[idx], rank+1)\n",
    "    for rank, idx in enumerate(most_likely[:10])],\n",
    "    columns=('Entity', 'Label', 'Score', 'Rank'))"
   ]
  },
  {
   "cell_type": "markdown",
   "metadata": {},
   "source": [
    "# Recovering"
   ]
  },
  {
   "cell_type": "markdown",
   "metadata": {},
   "source": [
    "The Masked Gang: Cyprus (Q7750525) does not containt screenwriter (P58):"
   ]
  },
  {
   "cell_type": "code",
   "execution_count": 15,
   "metadata": {},
   "outputs": [
    {
     "data": {
      "text/plain": [
       "set()"
      ]
     },
     "execution_count": 15,
     "metadata": {},
     "output_type": "execute_result"
    }
   ],
   "source": [
    "set(graph.objects(WD.Q7750525, WDT.P58))"
   ]
  },
  {
   "cell_type": "code",
   "execution_count": 16,
   "metadata": {},
   "outputs": [
    {
     "data": {
      "text/html": [
       "<div>\n",
       "<style scoped>\n",
       "    .dataframe tbody tr th:only-of-type {\n",
       "        vertical-align: middle;\n",
       "    }\n",
       "\n",
       "    .dataframe tbody tr th {\n",
       "        vertical-align: top;\n",
       "    }\n",
       "\n",
       "    .dataframe thead th {\n",
       "        text-align: right;\n",
       "    }\n",
       "</style>\n",
       "<table border=\"1\" class=\"dataframe\">\n",
       "  <thead>\n",
       "    <tr style=\"text-align: right;\">\n",
       "      <th></th>\n",
       "      <th>Entity</th>\n",
       "      <th>Label</th>\n",
       "      <th>Score</th>\n",
       "      <th>Rank</th>\n",
       "    </tr>\n",
       "  </thead>\n",
       "  <tbody>\n",
       "    <tr>\n",
       "      <th>0</th>\n",
       "      <td>Q5058838</td>\n",
       "      <td>Cengiz Küçükayvaz</td>\n",
       "      <td>4532.009766</td>\n",
       "      <td>1</td>\n",
       "    </tr>\n",
       "    <tr>\n",
       "      <th>1</th>\n",
       "      <td>Q6812382</td>\n",
       "      <td>Melih Ekener</td>\n",
       "      <td>4848.929199</td>\n",
       "      <td>2</td>\n",
       "    </tr>\n",
       "    <tr>\n",
       "      <th>2</th>\n",
       "      <td>Q12812724</td>\n",
       "      <td>Zübeyr Şaşmaz</td>\n",
       "      <td>4878.968750</td>\n",
       "      <td>3</td>\n",
       "    </tr>\n",
       "    <tr>\n",
       "      <th>3</th>\n",
       "      <td>Q6085709</td>\n",
       "      <td>Fırat Yükselir</td>\n",
       "      <td>4880.088379</td>\n",
       "      <td>4</td>\n",
       "    </tr>\n",
       "    <tr>\n",
       "      <th>4</th>\n",
       "      <td>Q6080728</td>\n",
       "      <td>Ugur Icbak</td>\n",
       "      <td>4890.920410</td>\n",
       "      <td>5</td>\n",
       "    </tr>\n",
       "    <tr>\n",
       "      <th>5</th>\n",
       "      <td>Q25476953</td>\n",
       "      <td>Sacide Taşaner</td>\n",
       "      <td>4901.976562</td>\n",
       "      <td>6</td>\n",
       "    </tr>\n",
       "    <tr>\n",
       "      <th>6</th>\n",
       "      <td>Q3328043</td>\n",
       "      <td>Murat Aslan</td>\n",
       "      <td>4906.344238</td>\n",
       "      <td>7</td>\n",
       "    </tr>\n",
       "    <tr>\n",
       "      <th>7</th>\n",
       "      <td>Q1956183</td>\n",
       "      <td>Muzaffer Özdemir</td>\n",
       "      <td>4913.630371</td>\n",
       "      <td>8</td>\n",
       "    </tr>\n",
       "    <tr>\n",
       "      <th>8</th>\n",
       "      <td>Q6089106</td>\n",
       "      <td>Gülsüm Kamu</td>\n",
       "      <td>4920.818359</td>\n",
       "      <td>9</td>\n",
       "    </tr>\n",
       "    <tr>\n",
       "      <th>9</th>\n",
       "      <td>Q382114</td>\n",
       "      <td>Mehmet Ali Erbil</td>\n",
       "      <td>4922.416504</td>\n",
       "      <td>10</td>\n",
       "    </tr>\n",
       "  </tbody>\n",
       "</table>\n",
       "</div>"
      ],
      "text/plain": [
       "      Entity              Label        Score  Rank\n",
       "0   Q5058838  Cengiz Küçükayvaz  4532.009766     1\n",
       "1   Q6812382       Melih Ekener  4848.929199     2\n",
       "2  Q12812724      Zübeyr Şaşmaz  4878.968750     3\n",
       "3   Q6085709     Fırat Yükselir  4880.088379     4\n",
       "4   Q6080728         Ugur Icbak  4890.920410     5\n",
       "5  Q25476953     Sacide Taşaner  4901.976562     6\n",
       "6   Q3328043        Murat Aslan  4906.344238     7\n",
       "7   Q1956183   Muzaffer Özdemir  4913.630371     8\n",
       "8   Q6089106        Gülsüm Kamu  4920.818359     9\n",
       "9    Q382114   Mehmet Ali Erbil  4922.416504    10"
      ]
     },
     "execution_count": 16,
     "metadata": {},
     "output_type": "execute_result"
    }
   ],
   "source": [
    "from sklearn.metrics import pairwise_distances\n",
    "\n",
    "# Let's see if we can recover this from embeddings...\n",
    "\n",
    "# set the head entity to bridge\n",
    "head = entity_emb[ent2id[WD.Q5058838]]\n",
    "# let's try with wdt:P279 (subClassOf) first\n",
    "pred = relation_emb[rel2id[WDT.P58]]\n",
    "# combine according to the TransE scoring function\n",
    "lhs = head + pred\n",
    "# compute distance to *any* entity\n",
    "dist = pairwise_distances(lhs.reshape(1, -1), entity_emb).reshape(-1)\n",
    "# find most plausible tails\n",
    "most_likely = dist.argsort()\n",
    "# show most likely entities\n",
    "pd.DataFrame([\n",
    "    (id2ent[idx][len(WD):], ent2lbl[id2ent[idx]], dist[idx], rank+1)\n",
    "    for rank, idx in enumerate(most_likely[:10])],\n",
    "    columns=('Entity', 'Label', 'Score', 'Rank'))\n",
    "\n"
   ]
  },
  {
   "cell_type": "markdown",
   "metadata": {},
   "source": [
    "# Entity Similarity"
   ]
  },
  {
   "cell_type": "code",
   "execution_count": 40,
   "metadata": {},
   "outputs": [
    {
     "name": "stdout",
     "output_type": "stream",
     "text": [
      "15725\n",
      "http://www.wikidata.org/entity/Q102235\n"
     ]
    }
   ],
   "source": [
    "# which entities are similar to \"Harry Potter and the Goblet of Fire\"\n",
    "ent = ent2id[WD.Q102225]\n",
    "# we compare the embedding of the query entity to all other entity embeddings\n",
    "print(ent)\n",
    "dist = sklearn.metrics.pairwise_distances(entity_emb[ent].reshape(1, -1), entity_emb).reshape(-1)\n",
    "# order by plausibility\n",
    "most_likely = dist.argsort()[1]\n",
    "entity = id2ent[most_likely]\n",
    "print(entity)\n",
    "# pd.DataFrame([\n",
    "#     (\n",
    "#         id2ent[idx][len(WD):], # qid\n",
    "#         ent2lbl[id2ent[idx]],  # label\n",
    "#         dist[idx],             # score\n",
    "#         rank+1,                # rank\n",
    "#     )\n",
    "#     for rank, idx in enumerate(most_likely[:15])],\n",
    "#     columns=('Entity', 'Label', 'Score', 'Rank'))"
   ]
  },
  {
   "cell_type": "code",
   "execution_count": 80,
   "metadata": {},
   "outputs": [],
   "source": [
    "from collections import Counter\n",
    "\n",
    "def recommendations_embeddings(ents: list) -> list:\n",
    "        # which entities are similar to \"Harry Potter and the Goblet of Fire\"\n",
    "        ents = [ent2id[WD[ent]] for ent in ents]\n",
    "        \n",
    "        # we compare the embedding of the query entity to all other entity embeddings\n",
    "        recommendations = []\n",
    "        for ent in ents:\n",
    "            dist = sklearn.metrics.pairwise_distances(\n",
    "                entity_emb[ent].reshape(1, -1), entity_emb\n",
    "            ).reshape(-1)\n",
    "            # order by plausibility\n",
    "            most_likely = dist.argsort()[1:6]\n",
    "            recommendations += ([str(id2ent[movie]) for movie in most_likely])\n",
    "        counts = Counter(recommendations).most_common(2)\n",
    "        first_rec = counts[0][0]\n",
    "        second_rec = counts[1][0]\n",
    "        return first_rec, second_rec"
   ]
  },
  {
   "cell_type": "code",
   "execution_count": 81,
   "metadata": {},
   "outputs": [
    {
     "name": "stdout",
     "output_type": "stream",
     "text": [
      "15725\n",
      "3604\n",
      "('http://www.wikidata.org/entity/Q161678', 'http://www.wikidata.org/entity/Q161687')\n"
     ]
    }
   ],
   "source": [
    "print(recommendations_embeddings([\"Q102225\", \"Q102235\"]))\n"
   ]
  },
  {
   "cell_type": "code",
   "execution_count": 82,
   "metadata": {},
   "outputs": [
    {
     "name": "stdout",
     "output_type": "stream",
     "text": [
      "xy\n"
     ]
    }
   ],
   "source": [
    "print(\"x\" + \"y\")"
   ]
  }
 ],
 "metadata": {
  "kernelspec": {
   "display_name": "venv",
   "language": "python",
   "name": "python3"
  },
  "language_info": {
   "codemirror_mode": {
    "name": "ipython",
    "version": 3
   },
   "file_extension": ".py",
   "mimetype": "text/x-python",
   "name": "python",
   "nbconvert_exporter": "python",
   "pygments_lexer": "ipython3",
   "version": "3.10.12"
  }
 },
 "nbformat": 4,
 "nbformat_minor": 2
}
